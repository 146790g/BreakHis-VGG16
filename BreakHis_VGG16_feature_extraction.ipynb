{
  "nbformat": 4,
  "nbformat_minor": 0,
  "metadata": {
    "kernelspec": {
      "display_name": "Python 3",
      "language": "python",
      "name": "python3"
    },
    "language_info": {
      "codemirror_mode": {
        "name": "ipython",
        "version": 3
      },
      "file_extension": ".py",
      "mimetype": "text/x-python",
      "name": "python",
      "nbconvert_exporter": "python",
      "pygments_lexer": "ipython3",
      "version": "3.6.10"
    },
    "colab": {
      "name": "BreakHis_VGG16_feature_extraction.ipynb",
      "provenance": [],
      "collapsed_sections": [],
      "include_colab_link": true
    },
    "accelerator": "GPU"
  },
  "cells": [
    {
      "cell_type": "markdown",
      "metadata": {
        "id": "view-in-github",
        "colab_type": "text"
      },
      "source": [
        "<a href=\"https://colab.research.google.com/github/146790g/BreakHis-VGG16/blob/master/BreakHis_VGG16_feature_extraction.ipynb\" target=\"_parent\"><img src=\"https://colab.research.google.com/assets/colab-badge.svg\" alt=\"Open In Colab\"/></a>"
      ]
    },
    {
      "cell_type": "markdown",
      "metadata": {
        "id": "Aos1i1OBdV3W"
      },
      "source": [
        "# 深層学習 VGG16モデルを用いた乳がん染色画像（BreakHis）の解析\n",
        "#（その３ : Image Feature Extraction ）\n",
        "# Deep Learning for Magnification Independent Breast Cancer Histopathology\n",
        "\n",
        "<br>\n",
        "\n",
        "# Image Classification using VGG19 Model - Image Feature Extraction\n",
        "\n",
        "<br>\n",
        "\n",
        "\n",
        "<h2>対象データは、こちらをクリック ☞　</>\n",
        "<a href='https://www.kaggle.com/ambarish/breakhis'>Kaggle BreakHis Data</a>\n",
        "\n",
        "４つのMagnification levelのデータをすべて合算して、解析する\n",
        "\n",
        "<br>\n",
        "\n",
        "## 4 Magnification Levels: ×40, ×100, ×200, ×400\n",
        "\n",
        "\n",
        "During analysis and annotation, pathologists starts by identifying ROIs in\n",
        "the lowest magnification level slide (×40), then dives deeper in the latter using higher magnification levels (×100, ×200) until having a profound insight\n",
        "(×400). \n",
        "\n",
        "<br>\n",
        "\n",
        "## データ数 の概要\n",
        "\n",
        "・Training Data: 5026 images <br>\n",
        "  -- Benign Data: 1472 images <br>\n",
        "  -- Mallignant Data: 3554 images \n",
        "\n",
        "・Validation Data: 2904 images <br>\n",
        "  -- Benign Data: 1008 images <br>\n",
        "  -- Mallignant Data:1896 images <br>\n",
        "\n",
        "## Data Set Details by Magnification levels.\n",
        "\n",
        " ×40 : <br>\n",
        "×100 : <br>\n",
        "×200 : <br>\n",
        "×400 : <br>"
      ]
    },
    {
      "cell_type": "code",
      "metadata": {
        "id": "MjZpD7wcfTPA"
      },
      "source": [
        "%tensorflow_version 2.x"
      ],
      "execution_count": null,
      "outputs": []
    },
    {
      "cell_type": "code",
      "metadata": {
        "id": "dIVAoJRwTq1x",
        "outputId": "47949a7e-61ac-4dea-9c4c-680d40399454",
        "colab": {
          "base_uri": "https://localhost:8080/",
          "height": 34
        }
      },
      "source": [
        "%pwd\n",
        "from google.colab import drive\n",
        "drive.mount('/content/gdrive')"
      ],
      "execution_count": null,
      "outputs": [
        {
          "output_type": "stream",
          "text": [
            "Mounted at /content/gdrive\n"
          ],
          "name": "stdout"
        }
      ]
    },
    {
      "cell_type": "code",
      "metadata": {
        "id": "mjdqpKr_VU7-",
        "outputId": "7a19e50b-df71-4471-a414-6d263e6e4be7",
        "colab": {
          "base_uri": "https://localhost:8080/",
          "height": 70
        }
      },
      "source": [
        "!ls -lh '/content/gdrive/My Drive/Colab Notebooks/BreakHis/data'"
      ],
      "execution_count": null,
      "outputs": [
        {
          "output_type": "stream",
          "text": [
            "total 8.0K\n",
            "drwx------ 2 root root 4.0K Jul 21 03:42 train\n",
            "drwx------ 2 root root 4.0K Jul 27 01:49 validation\n"
          ],
          "name": "stdout"
        }
      ]
    },
    {
      "cell_type": "code",
      "metadata": {
        "id": "PM4Bw3tFdESi"
      },
      "source": [
        "from keras.applications.vgg16 import VGG16\n",
        "from keras.preprocessing.image import ImageDataGenerator,load_img\n",
        "import numpy as np\n",
        "import os\n",
        "#import Pillow\n",
        "#from PIL import Image\n",
        "#import opencv\n",
        "from PIL import Image\n",
        "from keras.preprocessing.image import load_img, save_img, img_to_array, array_to_img\n",
        "import numpy as np\n",
        "from pandas import DataFrame\n",
        "import matplotlib.pyplot as plt\n",
        "\n",
        "import tensorflow as tf\n",
        "from tensorflow.keras import layers, models, initializers\n",
        "\n",
        "from keras.models import Sequential, Model\n",
        "from keras.layers import Input, Activation, Dropout, Flatten, Dense\n",
        "from keras.preprocessing.image import ImageDataGenerator\n",
        "from keras import optimizers\n",
        "import numpy as np\n",
        "import matplotlib.pyplot as plt\n",
        "import matplotlib.image as mpimg\n",
        "from keras.applications.vgg19 import VGG19\n",
        "from keras.models import Sequential, Model\n",
        "from keras.layers import Input, Activation, Dropout, Flatten, Dense\n",
        "from keras.preprocessing import image\n",
        "import numpy as np\n",
        "from keras.models import load_model\n",
        "\n",
        "    \n"
      ],
      "execution_count": null,
      "outputs": []
    },
    {
      "cell_type": "markdown",
      "metadata": {
        "id": "QlxAzC96Ztzt"
      },
      "source": [
        "# 第６章 特徴データの抽出\n"
      ]
    },
    {
      "cell_type": "markdown",
      "metadata": {
        "id": "UUF0kdiS8RhZ"
      },
      "source": [
        "### テストデータの正常組織の画像のすべてを4階テンソルの配列データに変換する"
      ]
    },
    {
      "cell_type": "code",
      "metadata": {
        "id": "UMFeHWA64J1v",
        "outputId": "ba705955-3c3b-47f4-946b-62b7bb99ba14",
        "colab": {
          "base_uri": "https://localhost:8080/",
          "height": 52
        }
      },
      "source": [
        "train_data_dir = '/content/gdrive/My Drive/Colab Notebooks/BreakHis/data/train' # 訓練データのフォルダー\n",
        "validation_data_dir = '/content/gdrive/My Drive/Colab Notebooks/BreakHis/data/validation' # テストデータのフォルダー\n",
        "result_dir = '/content/gdrive/My Drive/Colab Notebooks/BreakHis/results'        # VGG19の出力結果を保存するフォルダー\n",
        "test_dir = '/content/gdrive/My Drive/Colab Notebooks/BreakHis/test'\n",
        "    \n",
        "import os \n",
        "\n",
        "files=os.listdir(os.path.join(test_dir,'benign'))\n",
        "\n",
        "test_img_array_list = []\n",
        "\n",
        "for img in files:\n",
        "  \n",
        "    file=os.path.join(test_dir,'benign', img)\n",
        "    temp_img = load_img(file,target_size=(400,400))\n",
        "\n",
        "    #PIL形式からNumpy配列に変換と正規化(400, 400, 3)\n",
        "    temp_img_array = img_to_array(temp_img) /255\n",
        "\n",
        "    #変換したNumpy配列を末尾に追加\n",
        "    test_img_array_list.append(temp_img_array)\n",
        "\n",
        "    \n",
        "import numpy as np\n",
        "\n",
        "\n",
        "test_benign = np.array(test_img_array_list)\n",
        "\n",
        "print(type(test_benign))\n",
        "print(test_benign.shape)\n"
      ],
      "execution_count": null,
      "outputs": [
        {
          "output_type": "stream",
          "text": [
            "<class 'numpy.ndarray'>\n",
            "(78, 400, 400, 3)\n"
          ],
          "name": "stdout"
        }
      ]
    },
    {
      "cell_type": "markdown",
      "metadata": {
        "id": "ilRWJkQ3HKTY"
      },
      "source": [
        "###  テストデータのうち、乳癌組織の画像データを4階のテンソルの配列データに変換する"
      ]
    },
    {
      "cell_type": "code",
      "metadata": {
        "id": "tOllhmWuaKBk",
        "outputId": "3399bbf0-6c95-490e-cd34-7fec472337bf",
        "colab": {
          "base_uri": "https://localhost:8080/",
          "height": 52
        }
      },
      "source": [
        "import os \n",
        "\n",
        "files=os.listdir(os.path.join(test_dir,'malignant'))\n",
        "\n",
        "test_img_array_list = []\n",
        "\n",
        "for img in files:\n",
        "  \n",
        "    file=os.path.join(test_dir,'malignant', img)\n",
        "    temp_img = load_img(file,target_size=(400,400))\n",
        "\n",
        "    #PIL形式からNumpy配列に変換と正規化(400, 400, 3)\n",
        "    temp_img_array = img_to_array(temp_img) /255\n",
        "\n",
        "    #変換したNumpy配列を末尾に追加\n",
        "    test_img_array_list.append(temp_img_array)\n",
        "\n",
        "    \n",
        "import numpy as np\n",
        "\n",
        "\n",
        "test_malignant = np.array(test_img_array_list)\n",
        "\n",
        "print(type(test_malignant))\n",
        "print(test_malignant.shape)"
      ],
      "execution_count": null,
      "outputs": [
        {
          "output_type": "stream",
          "text": [
            "<class 'numpy.ndarray'>\n",
            "(94, 400, 400, 3)\n"
          ],
          "name": "stdout"
        }
      ]
    },
    {
      "cell_type": "markdown",
      "metadata": {
        "id": "brksfKqLH5vd"
      },
      "source": [
        "### 4階テンソルデータに基づいて、特徴データを抽出する"
      ]
    },
    {
      "cell_type": "code",
      "metadata": {
        "id": "AbKIwf6HfmT0",
        "outputId": "25c7a210-0b5c-42a1-ff4b-4ab10ddded2a",
        "colab": {
          "base_uri": "https://localhost:8080/",
          "height": 52
        }
      },
      "source": [
        "import matplotlib.pyplot as plt\n",
        "import matplotlib.image as mpimg\n",
        "from keras.applications.vgg16 import VGG16\n",
        "from keras.models import Sequential, Model\n",
        "from keras.layers import Input, Activation, Dropout, Flatten, Dense\n",
        "from keras.preprocessing import image\n",
        "import numpy as np\n",
        "from keras.models import load_model\n",
        "\n",
        "model=load_model(os.path.join(result_dir,'breakhis_vgg16model_parameter.h5'))\n",
        "\n",
        "layer_outputs = model.get_layer('dense').output\n",
        "\n",
        "model2 = models.Model(inputs=model.input, outputs=layer_outputs)\n",
        "\n",
        "\n",
        "# 正常組織の特徴量データ\n",
        "dense_output_benign =model2.predict(test_benign)\n",
        "\n",
        "#乳癌組織の特徴量データ\n",
        "dense_output_malignant=model2.predict(test_malignant)\n",
        "\n",
        "# 合算して、特徴量データをfeatureと命名する\n",
        "\n",
        "feature = np.concatenate([dense_output_benign, dense_output_malignant], axis=0)\n",
        "\n",
        "print(feature.shape)\n",
        "print(type(feature))\n",
        "\n",
        "feature_df=pd.DataFrame(feature)\n"
      ],
      "execution_count": null,
      "outputs": [
        {
          "output_type": "stream",
          "text": [
            "(172, 256)\n",
            "<class 'numpy.ndarray'>\n"
          ],
          "name": "stdout"
        }
      ]
    },
    {
      "cell_type": "code",
      "metadata": {
        "id": "fLxh1g4ZqvxX",
        "outputId": "e94230d1-edc2-47e6-a0e3-bb7ed29ae62c",
        "colab": {
          "base_uri": "https://localhost:8080/",
          "height": 265
        }
      },
      "source": [
        "import pandas as pd \n",
        "import pickle\n",
        "\n",
        "\n",
        "feature_df=pd.DataFrame(feature)\n",
        "print(feature_df)\n",
        "\n",
        "# model save\n",
        "\n",
        "with open(os.path.join(result_dir,'vgg16feature.pickle'),'wb') as web:\n",
        "  pickle.dump(feature_df,web)\n",
        "\n",
        "feature_df.to_pickle(os.path.join(result_dir,'vgg16feature.pkl'))"
      ],
      "execution_count": null,
      "outputs": [
        {
          "output_type": "stream",
          "text": [
            "          0         1    2         3    ...       252       253       254  255\n",
            "0    1.433194  0.237343  0.0  0.000000  ...  0.124101  0.433003  0.365921  0.0\n",
            "1    1.009185  0.000000  0.0  0.689157  ...  0.280792  0.000000  0.000000  0.0\n",
            "2    0.289563  0.000000  0.0  0.000000  ...  0.175480  0.643338  0.717072  0.0\n",
            "3    0.583612  0.000000  0.0  0.263637  ...  0.922542  0.755323  0.765121  0.0\n",
            "4    0.000000  0.000000  0.0  0.096608  ...  0.883193  1.501190  1.697194  0.0\n",
            "..        ...       ...  ...       ...  ...       ...       ...       ...  ...\n",
            "167  2.064936  0.696829  0.0  0.000000  ...  0.000000  0.000000  0.000000  0.0\n",
            "168  1.648822  0.000000  0.0  0.000000  ...  0.000000  0.021108  0.000000  0.0\n",
            "169  1.507757  0.959236  0.0  0.435809  ...  0.655173  0.000000  0.000000  0.0\n",
            "170  2.536943  1.333277  0.0  0.000000  ...  0.000000  0.000000  0.000000  0.0\n",
            "171  1.254399  0.000000  0.0  0.000000  ...  0.000000  0.000000  0.000000  0.0\n",
            "\n",
            "[172 rows x 256 columns]\n"
          ],
          "name": "stdout"
        }
      ]
    },
    {
      "cell_type": "code",
      "metadata": {
        "id": "4b9QHSazxc5U",
        "outputId": "ab153c8c-93ad-4330-a963-99a1584b06a5",
        "colab": {
          "base_uri": "https://localhost:8080/",
          "height": 265
        }
      },
      "source": [
        "df=feature_df\n",
        "\n",
        "from google.colab import auth\n",
        "from oauth2client.client import GoogleCredentials\n",
        "import gspread\n",
        "import gspread_dataframe as gs_df\n",
        "\n",
        "# 認証処理\n",
        "auth.authenticate_user()\n",
        "gc = gspread.authorize(GoogleCredentials.get_application_default())\n",
        "\n",
        "# 'sample'一つ目のワークシート\n",
        "worksheet = gc.open('sheet1').get_worksheet(0)\n",
        "\n",
        "# write\n",
        "gs_df.set_with_dataframe(worksheet, df)\n",
        "\n",
        "\n",
        "#\n",
        "# read\n",
        "#df_sp = gs_df.get_as_dataframe(worksheet)\n",
        "#df_sp.head()\n",
        "\n",
        "\n"
      ],
      "execution_count": null,
      "outputs": [
        {
          "output_type": "stream",
          "text": [
            "          0         1    2         3    ...       252       253       254  255\n",
            "0    1.433194  0.237343  0.0  0.000000  ...  0.124101  0.433003  0.365921  0.0\n",
            "1    1.009185  0.000000  0.0  0.689157  ...  0.280792  0.000000  0.000000  0.0\n",
            "2    0.289563  0.000000  0.0  0.000000  ...  0.175480  0.643338  0.717072  0.0\n",
            "3    0.583612  0.000000  0.0  0.263637  ...  0.922542  0.755323  0.765121  0.0\n",
            "4    0.000000  0.000000  0.0  0.096608  ...  0.883193  1.501190  1.697194  0.0\n",
            "..        ...       ...  ...       ...  ...       ...       ...       ...  ...\n",
            "167  2.064936  0.696829  0.0  0.000000  ...  0.000000  0.000000  0.000000  0.0\n",
            "168  1.648822  0.000000  0.0  0.000000  ...  0.000000  0.021108  0.000000  0.0\n",
            "169  1.507757  0.959236  0.0  0.435809  ...  0.655173  0.000000  0.000000  0.0\n",
            "170  2.536943  1.333277  0.0  0.000000  ...  0.000000  0.000000  0.000000  0.0\n",
            "171  1.254399  0.000000  0.0  0.000000  ...  0.000000  0.000000  0.000000  0.0\n",
            "\n",
            "[172 rows x 256 columns]\n"
          ],
          "name": "stdout"
        }
      ]
    },
    {
      "cell_type": "markdown",
      "metadata": {
        "id": "V9ICWRV2LfkP"
      },
      "source": [
        "### ラベルデータを作成する"
      ]
    },
    {
      "cell_type": "code",
      "metadata": {
        "id": "YVMh5U10SMzQ",
        "outputId": "b29eb85f-de97-49ab-8a63-cdb50ef1e79c",
        "colab": {
          "base_uri": "https://localhost:8080/",
          "height": 123
        }
      },
      "source": [
        "l1 = [0] * 78\n",
        "l2= [1]*94\n",
        "label=l1+l2\n",
        "\n",
        "labeld=np.array(label)\n",
        "\n",
        "print(labeld.shape)\n",
        "print(labeld)\n",
        "\n",
        "\n"
      ],
      "execution_count": null,
      "outputs": [
        {
          "output_type": "stream",
          "text": [
            "(172,)\n",
            "[0 0 0 0 0 0 0 0 0 0 0 0 0 0 0 0 0 0 0 0 0 0 0 0 0 0 0 0 0 0 0 0 0 0 0 0 0\n",
            " 0 0 0 0 0 0 0 0 0 0 0 0 0 0 0 0 0 0 0 0 0 0 0 0 0 0 0 0 0 0 0 0 0 0 0 0 0\n",
            " 0 0 0 0 1 1 1 1 1 1 1 1 1 1 1 1 1 1 1 1 1 1 1 1 1 1 1 1 1 1 1 1 1 1 1 1 1\n",
            " 1 1 1 1 1 1 1 1 1 1 1 1 1 1 1 1 1 1 1 1 1 1 1 1 1 1 1 1 1 1 1 1 1 1 1 1 1\n",
            " 1 1 1 1 1 1 1 1 1 1 1 1 1 1 1 1 1 1 1 1 1 1 1 1]\n"
          ],
          "name": "stdout"
        }
      ]
    },
    {
      "cell_type": "markdown",
      "metadata": {
        "id": "Hhf_ORNRUeJz"
      },
      "source": [
        "### 特徴量データに基づいて、tSNEプロットを作成する"
      ]
    },
    {
      "cell_type": "code",
      "metadata": {
        "id": "DQbS_wkXPG5l",
        "outputId": "ea23fd93-de73-4f3b-e9d2-be48a5b05d10",
        "colab": {
          "base_uri": "https://localhost:8080/",
          "height": 1000
        }
      },
      "source": [
        "from sklearn.manifold import TSNE\n",
        "digits2d = TSNE(n_components=2).fit_transform(feature)\n",
        "\n",
        "print(digits2d)\n",
        "print(digits2d.shape)"
      ],
      "execution_count": null,
      "outputs": [
        {
          "output_type": "stream",
          "text": [
            "[[ -3.763568    -0.7458945 ]\n",
            " [  4.373136     3.0307314 ]\n",
            " [  6.7879677    6.154968  ]\n",
            " [  5.8943925    7.064533  ]\n",
            " [  9.319406    10.80584   ]\n",
            " [ 12.913855    11.76217   ]\n",
            " [  2.5917618    5.5465345 ]\n",
            " [  7.045181     8.844622  ]\n",
            " [  7.088057     7.3773327 ]\n",
            " [ 10.972617    12.098181  ]\n",
            " [ 10.728117    10.877302  ]\n",
            " [  3.0940583    5.323484  ]\n",
            " [  7.924098     9.766453  ]\n",
            " [ 11.956044    12.221194  ]\n",
            " [ 10.672379     8.178482  ]\n",
            " [ -0.94844925  -0.47437033]\n",
            " [  9.091604     9.23923   ]\n",
            " [ -4.3062587   -5.775263  ]\n",
            " [  2.5311012    6.2571707 ]\n",
            " [ 11.493475    11.3904505 ]\n",
            " [  6.4924145    5.6731296 ]\n",
            " [ 11.095258    12.323949  ]\n",
            " [  5.462602     5.857095  ]\n",
            " [ 10.276469     9.655728  ]\n",
            " [  4.770779     5.598826  ]\n",
            " [ 12.118067     7.57075   ]\n",
            " [  0.4093073   -5.5266304 ]\n",
            " [ 11.476698    11.637093  ]\n",
            " [ 13.297499    13.465462  ]\n",
            " [ 13.350533    13.521642  ]\n",
            " [ -0.3104077    0.39252874]\n",
            " [  8.4134       9.512049  ]\n",
            " [  7.3672943   10.332909  ]\n",
            " [  3.5757053    6.9889717 ]\n",
            " [ -1.0497277   -4.2299223 ]\n",
            " [  9.670536    10.510595  ]\n",
            " [  7.868372     8.686111  ]\n",
            " [ -4.0173655   -2.794592  ]\n",
            " [ 11.460057     8.360842  ]\n",
            " [ -3.225561    -2.042735  ]\n",
            " [  5.6090703    5.9607553 ]\n",
            " [  9.422217    12.603379  ]\n",
            " [  9.637889     8.21614   ]\n",
            " [  4.3141527    7.402263  ]\n",
            " [  1.5901053    2.2894406 ]\n",
            " [ 10.817206     9.746059  ]\n",
            " [  2.9009697    4.243722  ]\n",
            " [ -3.9925442   -5.2504663 ]\n",
            " [ 12.06495     11.322738  ]\n",
            " [  9.2928295    6.0521674 ]\n",
            " [  9.421427     7.221177  ]\n",
            " [  9.400475     9.152274  ]\n",
            " [  9.744761     7.6073227 ]\n",
            " [  8.130086     8.597993  ]\n",
            " [  9.397248     9.911648  ]\n",
            " [  9.130498     6.676966  ]\n",
            " [  9.642086    10.09972   ]\n",
            " [  5.7506857    6.189048  ]\n",
            " [ 11.535722    12.8813715 ]\n",
            " [ -8.82118    -12.381684  ]\n",
            " [  3.474041     6.7772355 ]\n",
            " [ -2.3121595   -0.22106785]\n",
            " [  5.8499846    8.091436  ]\n",
            " [  9.032524     7.643315  ]\n",
            " [  9.101728    12.7420225 ]\n",
            " [  1.2216191    0.8060248 ]\n",
            " [  8.176793    10.126725  ]\n",
            " [ 13.342323    13.530593  ]\n",
            " [  7.8598075    7.917317  ]\n",
            " [ -7.0313315   -8.332751  ]\n",
            " [ 11.293438     7.645459  ]\n",
            " [ 13.08893     11.887989  ]\n",
            " [  2.7745426    5.8135443 ]\n",
            " [  8.889754    10.457361  ]\n",
            " [  5.361076     6.9960623 ]\n",
            " [  8.73646      9.170357  ]\n",
            " [ 11.947532    10.790992  ]\n",
            " [  7.535492     9.324436  ]\n",
            " [  2.419472     2.5459876 ]\n",
            " [  0.485804     0.7042069 ]\n",
            " [ -8.16351    -11.943075  ]\n",
            " [  1.9836874    1.9631382 ]\n",
            " [ -4.153672    -6.6621027 ]\n",
            " [ -1.2971375   -1.5770217 ]\n",
            " [ -4.6755567   -6.663678  ]\n",
            " [ -0.3693375   -1.2806764 ]\n",
            " [ -4.810535    -7.5633693 ]\n",
            " [  0.3026149   -5.415187  ]\n",
            " [ -6.5619287  -10.240911  ]\n",
            " [ -6.4957743   -9.072606  ]\n",
            " [ -0.26368123  -0.79075885]\n",
            " [ -3.5351815   -1.8471138 ]\n",
            " [ -1.3432423   -5.631877  ]\n",
            " [  2.2875223    2.8339367 ]\n",
            " [ -5.362795    -8.083678  ]\n",
            " [ -3.0707412   -2.7056153 ]\n",
            " [ -6.0657554   -9.529793  ]\n",
            " [  7.359132     8.407086  ]\n",
            " [  3.5890324    2.4396617 ]\n",
            " [ -6.2102556   -8.764899  ]\n",
            " [ -7.473275    -8.458257  ]\n",
            " [ -5.389172    -9.596824  ]\n",
            " [  3.6326706    2.998135  ]\n",
            " [ -5.394489    -8.978097  ]\n",
            " [-10.4057     -13.325843  ]\n",
            " [ -1.8719606   -0.88590187]\n",
            " [ -3.8913295   -3.9362936 ]\n",
            " [ -8.367609   -10.113019  ]\n",
            " [ -4.9362288   -7.121013  ]\n",
            " [ -9.762157   -13.097438  ]\n",
            " [ -1.6923655   -1.5242403 ]\n",
            " [ -1.9318435    0.582822  ]\n",
            " [  3.26038      4.3701205 ]\n",
            " [ -6.242343   -10.7491    ]\n",
            " [ -3.1014876   -1.5781484 ]\n",
            " [ -7.2202787   -7.1655407 ]\n",
            " [ -8.7978525  -11.394524  ]\n",
            " [ -5.5161457   -4.63371   ]\n",
            " [  2.7326672    2.4900742 ]\n",
            " [ -8.174771    -9.847257  ]\n",
            " [  6.7234664    6.3879504 ]\n",
            " [ -8.378517   -11.575849  ]\n",
            " [ -1.3524773   -2.6704433 ]\n",
            " [  0.55100656   0.95203066]\n",
            " [ -3.5914314   -5.8064847 ]\n",
            " [ -4.607368    -6.0940294 ]\n",
            " [ -9.4835615  -12.992739  ]\n",
            " [ -5.410806    -6.3377743 ]\n",
            " [ -7.7861733  -12.044086  ]\n",
            " [  3.6223817    4.43437   ]\n",
            " [ -0.0760396   -0.08633549]\n",
            " [ -1.5037655   -2.271118  ]\n",
            " [  4.2169166    3.5259044 ]\n",
            " [ -9.869768   -13.199486  ]\n",
            " [  6.2743177    4.7189507 ]\n",
            " [ -7.9963446  -11.532983  ]\n",
            " [ -2.8783643   -2.0755525 ]\n",
            " [ -3.0771492   -6.6649804 ]\n",
            " [ -3.4746492   -4.470907  ]\n",
            " [ -0.9547338   -4.7618585 ]\n",
            " [  2.9374795    2.4788797 ]\n",
            " [ -3.1399333   -3.4222124 ]\n",
            " [  8.101191     8.18506   ]\n",
            " [ -2.0431817   -2.1806757 ]\n",
            " [ -1.3513019   -0.7100245 ]\n",
            " [ -4.604335    -8.232776  ]\n",
            " [ -1.0384475   -1.2317321 ]\n",
            " [  3.405324     8.021683  ]\n",
            " [ -7.752642   -10.742657  ]\n",
            " [  4.6317058    3.1575124 ]\n",
            " [ -1.9653203   -1.7077503 ]\n",
            " [ -2.0512853   -0.9518984 ]\n",
            " [ -1.9271123   -2.1382246 ]\n",
            " [ -7.1706667  -10.163419  ]\n",
            " [ -7.290016    -8.552193  ]\n",
            " [ -7.8528566  -11.100143  ]\n",
            " [  1.0160747    1.4628466 ]\n",
            " [ -5.1675897   -8.565794  ]\n",
            " [ -6.6233077  -10.347185  ]\n",
            " [  7.1328444    9.751265  ]\n",
            " [ -2.5044086   -3.0079322 ]\n",
            " [ -7.1699157   -8.095989  ]\n",
            " [ -4.092092    -4.3532257 ]\n",
            " [ -9.587872   -12.929514  ]\n",
            " [ -0.4306599   -0.2747649 ]\n",
            " [ -7.0643883   -6.869093  ]\n",
            " [-10.323004   -13.302205  ]\n",
            " [ -4.2334647   -6.0370173 ]\n",
            " [ -3.1169868   -1.2420372 ]\n",
            " [ -2.2829447   -6.3576155 ]\n",
            " [ -6.86831     -9.087568  ]\n",
            " [  2.0699794    2.0082626 ]]\n",
            "(172, 2)\n"
          ],
          "name": "stdout"
        }
      ]
    },
    {
      "cell_type": "code",
      "metadata": {
        "id": "djCgp57mS1ul",
        "outputId": "d4a93a2d-6c39-4bd4-ac5d-f1b5b6806fa0",
        "colab": {
          "base_uri": "https://localhost:8080/",
          "height": 606
        }
      },
      "source": [
        "f, ax = plt.subplots(1, 1, figsize=(10, 10))\n",
        "\n",
        "name=['benign','malignant']\n",
        "\n",
        "for i in range(2):\n",
        "  target = digits2d[labeld == i]\n",
        "  ax.scatter(x=target[:, 0], y=target[:, 1], label=name[i], alpha=0.5)\n",
        "  plt.legend(bbox_to_anchor=(1.02, 1), loc='upper left')\n",
        "  plt.title('tSNE Plot')"
      ],
      "execution_count": null,
      "outputs": [
        {
          "output_type": "display_data",
          "data": {
            "image/png": "[encoded data removed]",
            "text/plain": [
              "<Figure size 720x720 with 1 Axes>"
            ]
          },
          "metadata": {
            "tags": [],
            "needs_background": "light"
          }
        }
      ]
    },
    {
      "cell_type": "markdown",
      "metadata": {
        "id": "JEMj9vV4ZJli"
      },
      "source": [
        "# 【考察】\n",
        "\n",
        "##特徴量データに基づいて、tSNEプロットを作成したところ、正常と乳癌組織で、適切に、分類されることが確認された。\n",
        "##画像データを、特徴量データのデジタルデータに変換することで、そのほかのRNAseqデータ等と統合的に解析できる道が開かれた。"
      ]
    }
  ]
}
{
  "nbformat": 4,
  "nbformat_minor": 0,
  "metadata": {
    "kernelspec": {
      "display_name": "Python 3",
      "language": "python",
      "name": "python3"
    },
    "language_info": {
      "codemirror_mode": {
        "name": "ipython",
        "version": 3
      },
      "file_extension": ".py",
      "mimetype": "text/x-python",
      "name": "python",
      "nbconvert_exporter": "python",
      "pygments_lexer": "ipython3",
      "version": "3.6.10"
    },
    "colab": {
      "name": "BreakHis_VGG16_2_Model Fitting.ipynb",
      "provenance": [],
      "collapsed_sections": [],
      "include_colab_link": true
    },
    "accelerator": "GPU"
  },
  "cells": [
    {
      "cell_type": "markdown",
      "metadata": {
        "id": "view-in-github",
        "colab_type": "text"
      },
      "source": [
        "<a href=\"https://colab.research.google.com/github/146790g/BreakHis-VGG16/blob/master/BreakHis_VGG16_2_Model_Fitting.ipynb\" target=\"_parent\"><img src=\"https://colab.research.google.com/assets/colab-badge.svg\" alt=\"Open In Colab\"/></a>"
      ]
    },
    {
      "cell_type": "markdown",
      "metadata": {
        "id": "Aos1i1OBdV3W"
      },
      "source": [
        "# 深層学習 VGG16モデルのファイン・チューニング法を用いた乳がん染色画像の解析\n",
        "##  Deep Learning for Magnification Independent Breast Cancer Histopathology\n",
        "## Image Classification\n",
        "\n",
        "#（その１： Model Fitting）\n",
        "\n",
        "４つのMagnification levelのデータをすべて合算して、解析する\n",
        "\n",
        "<br>\n",
        "\n",
        "## 4 Magnification Levels: ×40, ×100, ×200, ×400\n",
        "\n",
        "\n",
        "During analysis and annotation, pathologists starts by identifying ROIs in\n",
        "the lowest magnification level slide (×40), then dives deeper in the latter using higher magnification levels (×100, ×200) until having a profound insight\n",
        "(×400). \n",
        "\n",
        "<br>\n",
        "\n",
        "## データ数 の概要\n",
        "\n",
        "### Training Data: 5026 images <br>\n",
        "###  -- Benign Data: 1472 images <br>\n",
        "###  -- Mallignant Data: 3554 images \n",
        "\n",
        "### Validation Data: 2904 images <br>\n",
        "### -- Benign Data: 1008 images <br>\n",
        "### -- Mallignant Data:1896 images <br>\n",
        "\n",
        "## Data Set Details by Magnification levels.\n",
        "\n",
        " ×40 : <br>\n",
        "×100 : <br>\n",
        "×200 : <br>\n",
        "×400 : <br>"
      ]
    },
    {
      "cell_type": "markdown",
      "metadata": {
        "id": "5LnppvGwGEEO"
      },
      "source": [
        "##  VGG16モデル解析についてのyoutube動画の説明\n",
        "\n",
        "[Fine-tune VGG16 Image Classifier with Keras | Part 1: Build](https://www.youtube.com/watch?v=oDHpqu52soI&t=42s)\n",
        "\n",
        "[Fine-tune VGG16 Image Classifier with Keras | Part 2: Train](https://www.youtube.com/watch?v=INaX55V1zpY&t=72s)\n",
        "\n",
        "[Fine-tune VGG16 Image Classifier with Keras | Part 3: Predict](https://www.youtube.com/watch?v=HDom7mAxCdc)"
      ]
    },
    {
      "cell_type": "code",
      "metadata": {
        "id": "MjZpD7wcfTPA"
      },
      "source": [
        "%tensorflow_version 2.x"
      ],
      "execution_count": null,
      "outputs": []
    },
    {
      "cell_type": "code",
      "metadata": {
        "id": "dIVAoJRwTq1x",
        "outputId": "2b3747d1-4714-417a-c311-5e228059d8ee",
        "colab": {
          "base_uri": "https://localhost:8080/",
          "height": 34
        }
      },
      "source": [
        "%pwd\n",
        "from google.colab import drive\n",
        "drive.mount('/content/gdrive')"
      ],
      "execution_count": null,
      "outputs": [
        {
          "output_type": "stream",
          "text": [
            "Mounted at /content/gdrive\n"
          ],
          "name": "stdout"
        }
      ]
    },
    {
      "cell_type": "code",
      "metadata": {
        "id": "mjdqpKr_VU7-",
        "outputId": "e90708ef-7025-4e41-b2e7-ab17e291216c",
        "colab": {
          "base_uri": "https://localhost:8080/",
          "height": 70
        }
      },
      "source": [
        "!ls -lh '/content/gdrive/My Drive/Colab Notebooks/BreakHis/data'"
      ],
      "execution_count": null,
      "outputs": [
        {
          "output_type": "stream",
          "text": [
            "total 8.0K\n",
            "drwx------ 2 root root 4.0K Jul 21 03:42 train\n",
            "drwx------ 2 root root 4.0K Jul 27 01:49 validation\n"
          ],
          "name": "stdout"
        }
      ]
    },
    {
      "cell_type": "code",
      "metadata": {
        "id": "PM4Bw3tFdESi"
      },
      "source": [
        "from keras.applications.vgg16 import VGG16\n",
        "from keras.preprocessing.image import ImageDataGenerator,load_img\n",
        "import numpy as np\n",
        "import os\n",
        "#import Pillow\n",
        "#from PIL import Image\n",
        "#import opencv\n",
        "from PIL import Image\n",
        "from keras.preprocessing.image import load_img, save_img, img_to_array, array_to_img\n",
        "import numpy as np\n",
        "from pandas import DataFrame\n",
        "import matplotlib.pyplot as plt\n",
        "\n",
        "import tensorflow as tf\n",
        "from tensorflow.keras import layers, models, initializers\n",
        "\n",
        "from keras.models import Sequential, Model\n",
        "from keras.layers import Input, Activation, Dropout, Flatten, Dense\n",
        "from keras.preprocessing.image import ImageDataGenerator\n",
        "from keras import optimizers\n",
        "import numpy as np\n",
        "\n",
        "\n",
        "\n",
        "\n",
        "#num_train = 1000              # 訓練データの画像数\n",
        "#num_validation = 1000          # テストデータの画像数\n",
        "\n",
        "img_h, img_w = 400,400\n",
        "channels = 3\n",
        "batch_size = 30               # ミニバッチのサイズ\n",
        "train_data_dir = '/content/gdrive/My Drive/Colab Notebooks/BreakHis/data/train' # 訓練データのフォルダー\n",
        "validation_data_dir = '/content/gdrive/My Drive/Colab Notebooks/BreakHis/data/validation' # テストデータのフォルダー\n",
        "result_dir = '/content/gdrive/My Drive/Colab Notebooks/BreakHis/results'        # VGG16の出力結果を保存するフォルダー\n",
        "test_dir = '/content/gdrive/My Drive/Colab Notebooks/BreakHis/test'\n",
        "\n",
        "train_normal_files = os.listdir(os.path.join(train_data_dir,'benign'))\n",
        "train_malignant_files = os.listdir(os.path.join(train_data_dir,'malignant'))\n",
        "validtion_normal_files = os.listdir(os.path.join(validation_data_dir,'benign'))\n",
        "validation_malignant_files = os.listdir(os.path.join(validation_data_dir,'malignant'))\n",
        "    \n"
      ],
      "execution_count": null,
      "outputs": []
    },
    {
      "cell_type": "markdown",
      "metadata": {
        "id": "O7f_38t-xU4q"
      },
      "source": [
        "#第３章　VGG16とFC層を結合したモデルの構築\n",
        "\n",
        "##ファインチューニング法を用いる  \n",
        "##VGG16モデルのうち、ブロック５を学習可能として、さらに、FC層は、独自で新規にモデルを構築する"
      ]
    },
    {
      "cell_type": "code",
      "metadata": {
        "id": "DHpyu8f-sNvj",
        "outputId": "ef8ac31c-5afa-494c-b0ce-2968cbf31a7a",
        "colab": {
          "base_uri": "https://localhost:8080/",
          "height": 1000
        }
      },
      "source": [
        " ## VGG16モデルと学習済み重みを読み込む\n",
        "\n",
        "img_h, img_w = 400,400\n",
        "channels = 3\n",
        "batch_size = 30  \n",
        "\n",
        "\n",
        "vgg16_model = VGG16(include_top=False,        # 全結合層は層（FC）は読み込まない\n",
        "                    weights='imagenet',       # ImageNetで学習した重みを利用\n",
        "                    input_shape=(img_h, img_w, channels) # 入力データの形状\n",
        "                   )\n",
        "\n",
        "# VGG16モデルのサマリを出力\n",
        "print('VGG16モデルのサマリ')\n",
        "vgg16_model.summary()\n",
        "\n",
        "# VGG16のblock1_conv1からblock4_poolまでを凍結\n",
        "# block5のみを学習可能にする\n",
        "vgg16_model.trainable = True\n",
        "set_trainable = False\n",
        "for layer in vgg16_model.layers:\n",
        "    if layer.name == 'block5_conv1':\n",
        "        set_trainable = True\n",
        "    if set_trainable:        \n",
        "        layer.trainable = True\n",
        "    else:\n",
        "        layer.trainable = False\n",
        "    \n",
        "## 凍結後のサマリを出力\n",
        "print('凍結後のサマリ')\n",
        "vgg16_model.summary()\n",
        "\n",
        "## VGG16モデルと独自のFC層を連結した計算モデルを構築\n",
        "# Sequentialオブジェクトを生成\n",
        "model = Sequential()\n",
        "\n",
        "# VGG16モデルを追加\n",
        "model.add(vgg16_model)\n",
        "# Flatten層\n",
        "model.add(Flatten())\n",
        "# 全結合層\n",
        "model.add(Dense(256,                 # ニューロン数は256\n",
        "                activation='relu'    # 活性化関数はReLU\n",
        "                ))\n",
        "#第８層（出力層）\n",
        "model.add(Dense(1, activation='sigmoid', name='sigmoid'))\n",
        "\n",
        "# VGG16に独自のFC層を結合したモデルのサマリを出力\n",
        "print('結合後のサマリ')\n",
        "model.summary()    \n",
        "     \n",
        "     \n",
        "     \n",
        "  "
      ],
      "execution_count": null,
      "outputs": [
        {
          "output_type": "stream",
          "text": [
            "Downloading data from https://storage.googleapis.com/tensorflow/keras-applications/vgg16/vgg16_weights_tf_dim_ordering_tf_kernels_notop.h5\n",
            "58892288/58889256 [==============================] - 0s 0us/step\n",
            "VGG16モデルのサマリ\n",
            "Model: \"vgg16\"\n",
            "_________________________________________________________________\n",
            "Layer (type)                 Output Shape              Param #   \n",
            "=================================================================\n",
            "input_1 (InputLayer)         [(None, 400, 400, 3)]     0         \n",
            "_________________________________________________________________\n",
            "block1_conv1 (Conv2D)        (None, 400, 400, 64)      1792      \n",
            "_________________________________________________________________\n",
            "block1_conv2 (Conv2D)        (None, 400, 400, 64)      36928     \n",
            "_________________________________________________________________\n",
            "block1_pool (MaxPooling2D)   (None, 200, 200, 64)      0         \n",
            "_________________________________________________________________\n",
            "block2_conv1 (Conv2D)        (None, 200, 200, 128)     73856     \n",
            "_________________________________________________________________\n",
            "block2_conv2 (Conv2D)        (None, 200, 200, 128)     147584    \n",
            "_________________________________________________________________\n",
            "block2_pool (MaxPooling2D)   (None, 100, 100, 128)     0         \n",
            "_________________________________________________________________\n",
            "block3_conv1 (Conv2D)        (None, 100, 100, 256)     295168    \n",
            "_________________________________________________________________\n",
            "block3_conv2 (Conv2D)        (None, 100, 100, 256)     590080    \n",
            "_________________________________________________________________\n",
            "block3_conv3 (Conv2D)        (None, 100, 100, 256)     590080    \n",
            "_________________________________________________________________\n",
            "block3_pool (MaxPooling2D)   (None, 50, 50, 256)       0         \n",
            "_________________________________________________________________\n",
            "block4_conv1 (Conv2D)        (None, 50, 50, 512)       1180160   \n",
            "_________________________________________________________________\n",
            "block4_conv2 (Conv2D)        (None, 50, 50, 512)       2359808   \n",
            "_________________________________________________________________\n",
            "block4_conv3 (Conv2D)        (None, 50, 50, 512)       2359808   \n",
            "_________________________________________________________________\n",
            "block4_pool (MaxPooling2D)   (None, 25, 25, 512)       0         \n",
            "_________________________________________________________________\n",
            "block5_conv1 (Conv2D)        (None, 25, 25, 512)       2359808   \n",
            "_________________________________________________________________\n",
            "block5_conv2 (Conv2D)        (None, 25, 25, 512)       2359808   \n",
            "_________________________________________________________________\n",
            "block5_conv3 (Conv2D)        (None, 25, 25, 512)       2359808   \n",
            "_________________________________________________________________\n",
            "block5_pool (MaxPooling2D)   (None, 12, 12, 512)       0         \n",
            "=================================================================\n",
            "Total params: 14,714,688\n",
            "Trainable params: 14,714,688\n",
            "Non-trainable params: 0\n",
            "_________________________________________________________________\n",
            "凍結後のサマリ\n",
            "Model: \"vgg16\"\n",
            "_________________________________________________________________\n",
            "Layer (type)                 Output Shape              Param #   \n",
            "=================================================================\n",
            "input_1 (InputLayer)         [(None, 400, 400, 3)]     0         \n",
            "_________________________________________________________________\n",
            "block1_conv1 (Conv2D)        (None, 400, 400, 64)      1792      \n",
            "_________________________________________________________________\n",
            "block1_conv2 (Conv2D)        (None, 400, 400, 64)      36928     \n",
            "_________________________________________________________________\n",
            "block1_pool (MaxPooling2D)   (None, 200, 200, 64)      0         \n",
            "_________________________________________________________________\n",
            "block2_conv1 (Conv2D)        (None, 200, 200, 128)     73856     \n",
            "_________________________________________________________________\n",
            "block2_conv2 (Conv2D)        (None, 200, 200, 128)     147584    \n",
            "_________________________________________________________________\n",
            "block2_pool (MaxPooling2D)   (None, 100, 100, 128)     0         \n",
            "_________________________________________________________________\n",
            "block3_conv1 (Conv2D)        (None, 100, 100, 256)     295168    \n",
            "_________________________________________________________________\n",
            "block3_conv2 (Conv2D)        (None, 100, 100, 256)     590080    \n",
            "_________________________________________________________________\n",
            "block3_conv3 (Conv2D)        (None, 100, 100, 256)     590080    \n",
            "_________________________________________________________________\n",
            "block3_pool (MaxPooling2D)   (None, 50, 50, 256)       0         \n",
            "_________________________________________________________________\n",
            "block4_conv1 (Conv2D)        (None, 50, 50, 512)       1180160   \n",
            "_________________________________________________________________\n",
            "block4_conv2 (Conv2D)        (None, 50, 50, 512)       2359808   \n",
            "_________________________________________________________________\n",
            "block4_conv3 (Conv2D)        (None, 50, 50, 512)       2359808   \n",
            "_________________________________________________________________\n",
            "block4_pool (MaxPooling2D)   (None, 25, 25, 512)       0         \n",
            "_________________________________________________________________\n",
            "block5_conv1 (Conv2D)        (None, 25, 25, 512)       2359808   \n",
            "_________________________________________________________________\n",
            "block5_conv2 (Conv2D)        (None, 25, 25, 512)       2359808   \n",
            "_________________________________________________________________\n",
            "block5_conv3 (Conv2D)        (None, 25, 25, 512)       2359808   \n",
            "_________________________________________________________________\n",
            "block5_pool (MaxPooling2D)   (None, 12, 12, 512)       0         \n",
            "=================================================================\n",
            "Total params: 14,714,688\n",
            "Trainable params: 7,079,424\n",
            "Non-trainable params: 7,635,264\n",
            "_________________________________________________________________\n",
            "結合後のサマリ\n",
            "Model: \"sequential\"\n",
            "_________________________________________________________________\n",
            "Layer (type)                 Output Shape              Param #   \n",
            "=================================================================\n",
            "vgg16 (Functional)           (None, 12, 12, 512)       14714688  \n",
            "_________________________________________________________________\n",
            "flatten (Flatten)            (None, 73728)             0         \n",
            "_________________________________________________________________\n",
            "dense (Dense)                (None, 256)               18874624  \n",
            "_________________________________________________________________\n",
            "sigmoid (Dense)              (None, 1)                 257       \n",
            "=================================================================\n",
            "Total params: 33,589,569\n",
            "Trainable params: 25,954,305\n",
            "Non-trainable params: 7,635,264\n",
            "_________________________________________________________________\n"
          ],
          "name": "stdout"
        }
      ]
    },
    {
      "cell_type": "code",
      "metadata": {
        "id": "Swj3r46OsC61"
      },
      "source": [
        "## モデルのコンパイル\n",
        "# 最適化はRMSpropで行う\n",
        "# 学習率を小さくしたのはファインチューニングを\n",
        "\n",
        "model.compile(loss='binary_crossentropy',\n",
        "              optimizer=optimizers.RMSprop(lr=1e-5),\n",
        "              metrics=['accuracy'])"
      ],
      "execution_count": null,
      "outputs": []
    },
    {
      "cell_type": "markdown",
      "metadata": {
        "id": "lfuYrVr6yzjq"
      },
      "source": [
        "#第4章　データ拡張"
      ]
    },
    {
      "cell_type": "code",
      "metadata": {
        "id": "HHM8zUDzzEdw",
        "outputId": "2b5262f3-ee6e-41fd-beda-c5cd0c0b770f",
        "colab": {
          "base_uri": "https://localhost:8080/",
          "height": 52
        }
      },
      "source": [
        "\n",
        "img_h, img_w = 400,400\n",
        "channels = 3\n",
        "batch_size = 30               # ミニバッチのサイズ\n",
        "#train_data_dir = 'content/data/train' # 訓練データのフォルダー\n",
        "#validation_data_dir = 'content/data/validation' # テストデータのフォルダー\n",
        "#result_dir = 'results'        # VGG16の出力結果を保存するフォルダー  \n",
        "\n",
        "\n",
        "## 訓練データを読み込むジェネレーターを生成\n",
        "# データ拡張を行う\n",
        "train_datagen = ImageDataGenerator(\n",
        "    rescale=1.0 / 255,\n",
        "    rotation_range=40,      # 40度の範囲でランダムに回転させる\n",
        "    width_shift_range=0.2,  # 横サイズの0.2の割合でランダムに水平移動\n",
        "    height_shift_range=0.2, # 縦サイズの0.2の割合でランダムに垂直移動\n",
        "    horizontal_flip=True,   # 水平方向にランダムに反転、左右の入れ替え\n",
        "    vertical_flip=True,\n",
        "    zoom_range=0.8,         # ランダムに拡大\n",
        "    shear_range=0.2         # シアー変換をかける\n",
        ")\n",
        "\n",
        "# 訓練データを生成するするジェネレーター\n",
        "train_generator = train_datagen.flow_from_directory(\n",
        "    train_data_dir,             # 訓練データのフォルダー\n",
        "    target_size=(img_h, img_w), # 画像をリサイズ\n",
        "    batch_size=batch_size,      # ミニバッチのサイズ\n",
        "    class_mode='binary'         # 出力層は二値のラベルが必要\n",
        ")\n",
        "\n",
        "\n",
        "## テストデータを読み込むジェネレーターを生成\n",
        "test_datagen = ImageDataGenerator(rescale=1.0 / 255)\n",
        "\n",
        "\n",
        "# テストデータを生成するするジェネレーター\n",
        "validation_generator = test_datagen.flow_from_directory(\n",
        "    validation_data_dir,        # テストデータのフォルダー\n",
        "    target_size=(img_h, img_w), # 画像をリサイズ\n",
        "    batch_size=batch_size,      # ミニバッチのサイズ\n",
        "    class_mode='binary'         # 出力層は二値のラベルが必要\n",
        ")"
      ],
      "execution_count": null,
      "outputs": [
        {
          "output_type": "stream",
          "text": [
            "Found 5026 images belonging to 2 classes.\n",
            "Found 2904 images belonging to 2 classes.\n"
          ],
          "name": "stdout"
        }
      ]
    },
    {
      "cell_type": "code",
      "metadata": {
        "id": "KA0aK21zVi5Y",
        "outputId": "3a329cd7-ac0d-4c74-b1ca-4f3f3f31d223",
        "colab": {
          "base_uri": "https://localhost:8080/",
          "height": 52
        }
      },
      "source": [
        "type(train_generator)\n",
        "print(train_generator.class_indices)\n",
        "print(validation_generator.class_indices)\n"
      ],
      "execution_count": null,
      "outputs": [
        {
          "output_type": "stream",
          "text": [
            "{'benign': 0, 'malignant': 1}\n",
            "{'benign': 0, 'malignant': 1}\n"
          ],
          "name": "stdout"
        }
      ]
    },
    {
      "cell_type": "markdown",
      "metadata": {
        "id": "Kw95xWwPPLlk"
      },
      "source": [
        "# 第5章　Model Fitting"
      ]
    },
    {
      "cell_type": "markdown",
      "metadata": {
        "id": "4DOVlCwQfEbx"
      },
      "source": [
        "### epochs=4としてみて、Model Fittingに対して、どれだけ時間がかかるかの想定をつける。今の場合には、最初のepochでは、5359秒を要して、2回目のepochでは、300秒を要することがわかる。そのため、この解析をepoch５０回繰り返すのに必要な時間は、以下のとおりとなる。\n",
        "\n",
        "### ５３５９秒＋３００秒×５０＝２０３５９秒＝３３９分１９秒\n",
        "\n",
        "### つまり、５時間４０分程度を要することがわかる。"
      ]
    },
    {
      "cell_type": "code",
      "metadata": {
        "id": "J6YaPZukfl9x",
        "outputId": "766a566b-1231-411b-cb87-9e6399ab6b95",
        "colab": {
          "base_uri": "https://localhost:8080/",
          "height": 230
        }
      },
      "source": [
        "epochs=4\n",
        "num_train = 5026\n",
        "num_validation = 2904\n",
        "\n",
        "## 学習を行う\n",
        "\n",
        "# 訓練データのジェネレーターのサイズ：164\n",
        "print(len(train_generator))\n",
        "# 訓練データの数をミニバッチのサイズで割った値：163\n",
        "print(num_train//batch_size)\n",
        "# テストデータのジェネレーターのサイズ：20\n",
        "print(len(validation_generator))\n",
        "# テストデータの数をミニバッチのサイズで割った値：19\n",
        "print(num_validation//batch_size)\n",
        "\n",
        "# モデルのファインチューニング\n",
        "history = model.fit(\n",
        "    \n",
        "    # 訓練データのジェネレーター\n",
        "    train_generator,\n",
        "    # 各エポックにおけるステップ数として\n",
        "    # 訓練データの数をミニバッチのサイズで割った値を指定\n",
        "    steps_per_epoch=num_train//batch_size,\n",
        "    # エポック数（学習回数）\n",
        "    epochs=epochs,\n",
        "    # テストデータのジェネレーター\n",
        "    validation_data=validation_generator,\n",
        "    # テストにおける各エポックにおけるステップ数として\n",
        "    # テストデータの数をミニバッチのサイズで割った値を指定\n",
        "    validation_steps=num_validation//batch_size\n",
        ")"
      ],
      "execution_count": null,
      "outputs": [
        {
          "output_type": "stream",
          "text": [
            "168\n",
            "167\n",
            "97\n",
            "96\n",
            "Epoch 1/4\n",
            "167/167 [==============================] - 5359s 32s/step - loss: 0.5454 - accuracy: 0.7268 - val_loss: 0.7019 - val_accuracy: 0.6719\n",
            "Epoch 2/4\n",
            "167/167 [==============================] - 305s 2s/step - loss: 0.4536 - accuracy: 0.7916 - val_loss: 0.4546 - val_accuracy: 0.7885\n",
            "Epoch 3/4\n",
            "167/167 [==============================] - 285s 2s/step - loss: 0.3884 - accuracy: 0.8295 - val_loss: 0.4595 - val_accuracy: 0.7920\n",
            "Epoch 4/4\n",
            "167/167 [==============================] - 297s 2s/step - loss: 0.3656 - accuracy: 0.8487 - val_loss: 1.0210 - val_accuracy: 0.6955\n"
          ],
          "name": "stdout"
        }
      ]
    },
    {
      "cell_type": "markdown",
      "metadata": {
        "id": "ohizgciEg8B3"
      },
      "source": [
        "### 次に、epochを５０回として、やってみる"
      ]
    },
    {
      "cell_type": "code",
      "metadata": {
        "id": "yassHXrNfBJG",
        "outputId": "d88f6782-c82b-4709-9bf2-db70212054c5",
        "colab": {
          "base_uri": "https://localhost:8080/",
          "height": 1000
        }
      },
      "source": [
        "epochs=50\n",
        "num_train = 5026\n",
        "num_validation = 2904\n",
        "\n",
        "## 学習を行う\n",
        "\n",
        "# 訓練データのジェネレーターのサイズ：164\n",
        "print(len(train_generator))\n",
        "# 訓練データの数をミニバッチのサイズで割った値：163\n",
        "print(num_train//batch_size)\n",
        "# テストデータのジェネレーターのサイズ：20\n",
        "print(len(validation_generator))\n",
        "# テストデータの数をミニバッチのサイズで割った値：19\n",
        "print(num_validation//batch_size)\n",
        "\n",
        "# モデルのファインチューニング\n",
        "history = model.fit(\n",
        "    \n",
        "    # 訓練データのジェネレーター\n",
        "    train_generator,\n",
        "    # 各エポックにおけるステップ数として\n",
        "    # 訓練データの数をミニバッチのサイズで割った値を指定\n",
        "    steps_per_epoch=num_train//batch_size,\n",
        "    # エポック数（学習回数）\n",
        "    epochs=epochs,\n",
        "    # テストデータのジェネレーター\n",
        "    validation_data=validation_generator,\n",
        "    # テストにおける各エポックにおけるステップ数として\n",
        "    # テストデータの数をミニバッチのサイズで割った値を指定\n",
        "    validation_steps=num_validation//batch_size\n",
        ")"
      ],
      "execution_count": null,
      "outputs": [
        {
          "output_type": "stream",
          "text": [
            "168\n",
            "167\n",
            "97\n",
            "96\n",
            "Epoch 1/50\n",
            "167/167 [==============================] - 3593s 22s/step - loss: 0.5511 - accuracy: 0.7194 - val_loss: 0.6325 - val_accuracy: 0.6750\n",
            "Epoch 2/50\n",
            "167/167 [==============================] - 350s 2s/step - loss: 0.4505 - accuracy: 0.7872 - val_loss: 0.5991 - val_accuracy: 0.7222\n",
            "Epoch 3/50\n",
            "167/167 [==============================] - 339s 2s/step - loss: 0.3985 - accuracy: 0.8185 - val_loss: 0.6124 - val_accuracy: 0.7392\n",
            "Epoch 4/50\n",
            "167/167 [==============================] - 328s 2s/step - loss: 0.3739 - accuracy: 0.8385 - val_loss: 0.4362 - val_accuracy: 0.8083\n",
            "Epoch 5/50\n",
            "167/167 [==============================] - 326s 2s/step - loss: 0.3480 - accuracy: 0.8533 - val_loss: 0.4547 - val_accuracy: 0.8153\n",
            "Epoch 6/50\n",
            "167/167 [==============================] - 328s 2s/step - loss: 0.3295 - accuracy: 0.8621 - val_loss: 0.7940 - val_accuracy: 0.7389\n",
            "Epoch 7/50\n",
            "167/167 [==============================] - 327s 2s/step - loss: 0.3127 - accuracy: 0.8693 - val_loss: 0.5922 - val_accuracy: 0.7962\n",
            "Epoch 8/50\n",
            "167/167 [==============================] - 320s 2s/step - loss: 0.3017 - accuracy: 0.8775 - val_loss: 0.4902 - val_accuracy: 0.8160\n",
            "Epoch 9/50\n",
            "167/167 [==============================] - 313s 2s/step - loss: 0.2936 - accuracy: 0.8887 - val_loss: 0.5340 - val_accuracy: 0.8066\n",
            "Epoch 10/50\n",
            "167/167 [==============================] - 313s 2s/step - loss: 0.2819 - accuracy: 0.8843 - val_loss: 0.9234 - val_accuracy: 0.7538\n",
            "Epoch 11/50\n",
            "167/167 [==============================] - 310s 2s/step - loss: 0.2715 - accuracy: 0.8931 - val_loss: 0.4681 - val_accuracy: 0.8330\n",
            "Epoch 12/50\n",
            "167/167 [==============================] - 310s 2s/step - loss: 0.2744 - accuracy: 0.8961 - val_loss: 0.4254 - val_accuracy: 0.8486\n",
            "Epoch 13/50\n",
            "167/167 [==============================] - 309s 2s/step - loss: 0.2547 - accuracy: 0.8989 - val_loss: 0.6876 - val_accuracy: 0.7851\n",
            "Epoch 14/50\n",
            "167/167 [==============================] - 307s 2s/step - loss: 0.2460 - accuracy: 0.9051 - val_loss: 0.8438 - val_accuracy: 0.7660\n",
            "Epoch 15/50\n",
            "167/167 [==============================] - 307s 2s/step - loss: 0.2534 - accuracy: 0.8993 - val_loss: 0.4925 - val_accuracy: 0.8469\n",
            "Epoch 16/50\n",
            "167/167 [==============================] - 307s 2s/step - loss: 0.2435 - accuracy: 0.9083 - val_loss: 0.6997 - val_accuracy: 0.8059\n",
            "Epoch 17/50\n",
            "167/167 [==============================] - 307s 2s/step - loss: 0.2454 - accuracy: 0.9011 - val_loss: 0.6223 - val_accuracy: 0.8212\n",
            "Epoch 18/50\n",
            "167/167 [==============================] - 306s 2s/step - loss: 0.2373 - accuracy: 0.9069 - val_loss: 0.6851 - val_accuracy: 0.8132\n",
            "Epoch 19/50\n",
            "167/167 [==============================] - 305s 2s/step - loss: 0.2218 - accuracy: 0.9175 - val_loss: 0.8405 - val_accuracy: 0.8139\n",
            "Epoch 20/50\n",
            "167/167 [==============================] - 304s 2s/step - loss: 0.2154 - accuracy: 0.9161 - val_loss: 1.0472 - val_accuracy: 0.7851\n",
            "Epoch 21/50\n",
            "167/167 [==============================] - 304s 2s/step - loss: 0.2215 - accuracy: 0.9163 - val_loss: 0.7193 - val_accuracy: 0.8229\n",
            "Epoch 22/50\n",
            "167/167 [==============================] - 303s 2s/step - loss: 0.2125 - accuracy: 0.9175 - val_loss: 0.5777 - val_accuracy: 0.8472\n",
            "Epoch 23/50\n",
            "167/167 [==============================] - 304s 2s/step - loss: 0.2131 - accuracy: 0.9181 - val_loss: 0.6151 - val_accuracy: 0.8191\n",
            "Epoch 24/50\n",
            "167/167 [==============================] - 302s 2s/step - loss: 0.2076 - accuracy: 0.9202 - val_loss: 0.7967 - val_accuracy: 0.8205\n",
            "Epoch 25/50\n",
            "167/167 [==============================] - 302s 2s/step - loss: 0.2009 - accuracy: 0.9199 - val_loss: 0.9152 - val_accuracy: 0.8049\n",
            "Epoch 26/50\n",
            "167/167 [==============================] - 302s 2s/step - loss: 0.1936 - accuracy: 0.9291 - val_loss: 0.8811 - val_accuracy: 0.8094\n",
            "Epoch 27/50\n",
            "167/167 [==============================] - 301s 2s/step - loss: 0.2037 - accuracy: 0.9211 - val_loss: 0.6254 - val_accuracy: 0.8469\n",
            "Epoch 28/50\n",
            "167/167 [==============================] - 302s 2s/step - loss: 0.1895 - accuracy: 0.9293 - val_loss: 1.1972 - val_accuracy: 0.7972\n",
            "Epoch 29/50\n",
            "167/167 [==============================] - 303s 2s/step - loss: 0.1943 - accuracy: 0.9257 - val_loss: 0.7281 - val_accuracy: 0.8344\n",
            "Epoch 30/50\n",
            "167/167 [==============================] - 302s 2s/step - loss: 0.1882 - accuracy: 0.9257 - val_loss: 0.6631 - val_accuracy: 0.8389\n",
            "Epoch 31/50\n",
            "167/167 [==============================] - 302s 2s/step - loss: 0.1870 - accuracy: 0.9293 - val_loss: 0.6490 - val_accuracy: 0.8451\n",
            "Epoch 32/50\n",
            "167/167 [==============================] - 300s 2s/step - loss: 0.1790 - accuracy: 0.9321 - val_loss: 0.6113 - val_accuracy: 0.8552\n",
            "Epoch 33/50\n",
            "167/167 [==============================] - 304s 2s/step - loss: 0.1781 - accuracy: 0.9355 - val_loss: 0.7079 - val_accuracy: 0.8441\n",
            "Epoch 34/50\n",
            "167/167 [==============================] - 308s 2s/step - loss: 0.1832 - accuracy: 0.9297 - val_loss: 0.8411 - val_accuracy: 0.8309\n",
            "Epoch 35/50\n",
            "167/167 [==============================] - 309s 2s/step - loss: 0.1839 - accuracy: 0.9331 - val_loss: 0.8258 - val_accuracy: 0.8486\n",
            "Epoch 36/50\n",
            "167/167 [==============================] - 308s 2s/step - loss: 0.1785 - accuracy: 0.9337 - val_loss: 0.8340 - val_accuracy: 0.8240\n",
            "Epoch 37/50\n",
            "167/167 [==============================] - 307s 2s/step - loss: 0.1696 - accuracy: 0.9341 - val_loss: 0.7194 - val_accuracy: 0.8358\n",
            "Epoch 38/50\n",
            "167/167 [==============================] - 313s 2s/step - loss: 0.1614 - accuracy: 0.9390 - val_loss: 0.6711 - val_accuracy: 0.8556\n",
            "Epoch 39/50\n",
            "167/167 [==============================] - 313s 2s/step - loss: 0.1638 - accuracy: 0.9404 - val_loss: 1.1111 - val_accuracy: 0.8226\n",
            "Epoch 40/50\n",
            "167/167 [==============================] - 313s 2s/step - loss: 0.1758 - accuracy: 0.9345 - val_loss: 0.7325 - val_accuracy: 0.8424\n",
            "Epoch 41/50\n",
            "167/167 [==============================] - 313s 2s/step - loss: 0.1698 - accuracy: 0.9380 - val_loss: 1.0058 - val_accuracy: 0.8271\n",
            "Epoch 42/50\n",
            "167/167 [==============================] - 313s 2s/step - loss: 0.1631 - accuracy: 0.9404 - val_loss: 0.7597 - val_accuracy: 0.8476\n",
            "Epoch 43/50\n",
            "167/167 [==============================] - 312s 2s/step - loss: 0.1600 - accuracy: 0.9410 - val_loss: 0.9163 - val_accuracy: 0.8462\n",
            "Epoch 44/50\n",
            "167/167 [==============================] - 311s 2s/step - loss: 0.1667 - accuracy: 0.9359 - val_loss: 0.8738 - val_accuracy: 0.8535\n",
            "Epoch 45/50\n",
            "167/167 [==============================] - 311s 2s/step - loss: 0.1508 - accuracy: 0.9472 - val_loss: 1.0379 - val_accuracy: 0.8483\n",
            "Epoch 46/50\n",
            "167/167 [==============================] - 310s 2s/step - loss: 0.1669 - accuracy: 0.9388 - val_loss: 0.6404 - val_accuracy: 0.8622\n",
            "Epoch 47/50\n",
            "167/167 [==============================] - 319s 2s/step - loss: 0.1605 - accuracy: 0.9386 - val_loss: 0.8765 - val_accuracy: 0.8587\n",
            "Epoch 48/50\n",
            "167/167 [==============================] - 318s 2s/step - loss: 0.1530 - accuracy: 0.9430 - val_loss: 0.6163 - val_accuracy: 0.8701\n",
            "Epoch 49/50\n",
            "167/167 [==============================] - 316s 2s/step - loss: 0.1476 - accuracy: 0.9438 - val_loss: 0.7293 - val_accuracy: 0.8601\n",
            "Epoch 50/50\n",
            "167/167 [==============================] - 317s 2s/step - loss: 0.1560 - accuracy: 0.9434 - val_loss: 0.8603 - val_accuracy: 0.8531\n"
          ],
          "name": "stdout"
        }
      ]
    },
    {
      "cell_type": "markdown",
      "metadata": {
        "id": "37xqwZTRfCHD"
      },
      "source": [
        ""
      ]
    },
    {
      "cell_type": "code",
      "metadata": {
        "id": "maVWQmC3Phtt"
      },
      "source": [
        "result_dir = '/content/gdrive/My Drive/Colab Notebooks/BreakHis/results'  \n",
        "\n",
        "\n",
        "with open(os.path.join(result_dir,'breakhis_vgg16model.json'),'w') as json_file:\n",
        "  json_file.write(model.to_json())\n",
        "\n",
        "#model parameter save\n",
        "model.save_weights(os.path.join(result_dir,'breakhis_vgg16parameter.h5'))\n",
        "\n",
        "\n",
        "# model save\n",
        "model.save(os.path.join(result_dir,'breakhis_vgg16model_parameter.h5'))\n",
        "\n",
        "import pandas as pd\n",
        "\n",
        "df_history=pd.DataFrame(history.history)\n",
        "\n",
        "df_history.to_pickle(os.path.join(result_dir,'history.pkl'))\n",
        "\n"
      ],
      "execution_count": null,
      "outputs": []
    },
    {
      "cell_type": "code",
      "metadata": {
        "id": "Go5ZshvNdEUY",
        "outputId": "bfb9bd33-b1c4-455f-a75e-074ea303ab0a",
        "colab": {
          "base_uri": "https://localhost:8080/",
          "height": 54
        }
      },
      "source": [
        "type(history)\n",
        "history.history\n",
        "print(history.history)\n"
      ],
      "execution_count": null,
      "outputs": [
        {
          "output_type": "stream",
          "text": [
            "{'loss': [0.551092803478241, 0.45051196217536926, 0.3984852135181427, 0.37393486499786377, 0.34800392389297485, 0.32952556014060974, 0.3127420246601105, 0.3016822040081024, 0.2936052083969116, 0.2818565368652344, 0.27145394682884216, 0.2744475305080414, 0.25472623109817505, 0.24602122604846954, 0.2533789873123169, 0.24353879690170288, 0.24543920159339905, 0.23733265697956085, 0.22182872891426086, 0.21538546681404114, 0.2215159833431244, 0.21248319745063782, 0.21308408677577972, 0.20760853588581085, 0.20087365806102753, 0.19361788034439087, 0.20369867980480194, 0.18949414789676666, 0.19433832168579102, 0.18819007277488708, 0.1870201975107193, 0.1790132373571396, 0.17807166278362274, 0.18321698904037476, 0.18388107419013977, 0.17847508192062378, 0.16957738995552063, 0.16141211986541748, 0.16380225121974945, 0.17583294212818146, 0.169835165143013, 0.1631389856338501, 0.16002602875232697, 0.16674859821796417, 0.15076959133148193, 0.16686570644378662, 0.1604718565940857, 0.1530003398656845, 0.1475866138935089, 0.15596526861190796], 'accuracy': [0.719375491142273, 0.7872297763824463, 0.8184547424316406, 0.8384707570075989, 0.853282630443573, 0.8620896935462952, 0.8692954182624817, 0.8775020241737366, 0.8887109756469727, 0.8843074440956116, 0.8931145071983337, 0.8961169123649597, 0.8989191055297852, 0.9051241278648376, 0.8993194699287415, 0.9083266854286194, 0.9011209011077881, 0.9069255590438843, 0.9175340533256531, 0.916132926940918, 0.9163330793380737, 0.9175340533256531, 0.9181345105171204, 0.9201596975326538, 0.919935941696167, 0.9291433095932007, 0.9211369156837463, 0.9293434619903564, 0.9257405996322632, 0.9257405996322632, 0.9293434619903564, 0.9321457147598267, 0.9355484247207642, 0.929743766784668, 0.9331465363502502, 0.9337469935417175, 0.934147298336029, 0.9389511346817017, 0.9403522610664368, 0.9345476627349854, 0.9379503726959229, 0.9403522610664368, 0.9409527778625488, 0.9359487295150757, 0.9471577405929565, 0.9387509822845459, 0.9385508298873901, 0.9429543614387512, 0.943755030632019, 0.9433546662330627], 'val_loss': [0.6324983239173889, 0.5990914106369019, 0.6123586297035217, 0.4362117052078247, 0.4547465741634369, 0.7940189838409424, 0.5921667218208313, 0.49024802446365356, 0.5339663028717041, 0.9234251976013184, 0.4680771231651306, 0.4253683388233185, 0.6876417398452759, 0.843758225440979, 0.4924853444099426, 0.6996692419052124, 0.6223068833351135, 0.685111939907074, 0.8404980301856995, 1.0471583604812622, 0.7193458676338196, 0.5777332186698914, 0.6151338219642639, 0.7967281937599182, 0.9152059555053711, 0.881119430065155, 0.625399649143219, 1.197158694267273, 0.7280908226966858, 0.6630836725234985, 0.6490129828453064, 0.6112844944000244, 0.7079282402992249, 0.8411180377006531, 0.8258112668991089, 0.8339512944221497, 0.7194338440895081, 0.6710638403892517, 1.111099362373352, 0.7325475811958313, 1.0057837963104248, 0.7596854567527771, 0.9162796139717102, 0.8737848997116089, 1.037876844406128, 0.6404440999031067, 0.8765249252319336, 0.6163110733032227, 0.7292713522911072, 0.8602994084358215], 'val_accuracy': [0.675000011920929, 0.7222222089767456, 0.7392361164093018, 0.8083333373069763, 0.8152777552604675, 0.7388888597488403, 0.7961805462837219, 0.8159722089767456, 0.8065972328186035, 0.753819465637207, 0.8329861164093018, 0.8486111164093018, 0.785069465637207, 0.7659721970558167, 0.846875011920929, 0.8059027791023254, 0.8211805820465088, 0.8131944537162781, 0.8138889074325562, 0.785069465637207, 0.8229166865348816, 0.8472222089767456, 0.8190972208976746, 0.8204861283302307, 0.8048611283302307, 0.809374988079071, 0.846875011920929, 0.7972221970558167, 0.8343750238418579, 0.8388888835906982, 0.8451389074325562, 0.8552083373069763, 0.8440971970558167, 0.8309027552604675, 0.8486111164093018, 0.8239583373069763, 0.8357638716697693, 0.855555534362793, 0.8225694298744202, 0.8423610925674438, 0.8270833492279053, 0.847569465637207, 0.8461805582046509, 0.8534722328186035, 0.8482638597488403, 0.8621527552604675, 0.8586805462837219, 0.8701388835906982, 0.8600694537162781, 0.8531249761581421]}\n"
          ],
          "name": "stdout"
        }
      ]
    },
    {
      "cell_type": "code",
      "metadata": {
        "id": "3ggTwUkDQ0ep",
        "outputId": "bcf68e83-b7de-42f7-df8b-d10f462ed170",
        "colab": {
          "base_uri": "https://localhost:8080/",
          "height": 34
        }
      },
      "source": [
        "np.mean(history.history['accuracy'][48:50])"
      ],
      "execution_count": null,
      "outputs": [
        {
          "output_type": "execute_result",
          "data": {
            "text/plain": [
              "0.9435548484325409"
            ]
          },
          "metadata": {
            "tags": []
          },
          "execution_count": 12
        }
      ]
    },
    {
      "cell_type": "code",
      "metadata": {
        "id": "WPDj4NS3Regk",
        "outputId": "46ac6d59-10c8-4554-f190-fda43ee22ff7",
        "colab": {
          "base_uri": "https://localhost:8080/",
          "height": 34
        }
      },
      "source": [
        "np.mean(history.history['val_accuracy'][48:50])"
      ],
      "execution_count": null,
      "outputs": [
        {
          "output_type": "execute_result",
          "data": {
            "text/plain": [
              "0.8565972149372101"
            ]
          },
          "metadata": {
            "tags": []
          },
          "execution_count": 13
        }
      ]
    },
    {
      "cell_type": "markdown",
      "metadata": {
        "id": "xkMWot8gQW-2"
      },
      "source": [
        "##【考察】\n",
        "epochが、48番から50番までの精度の平均値を算出すると、  \n",
        "訓練データ：精度：94.36 ％  \n",
        "テストデータ：精度：85.66％  \n",
        "であった。\n",
        " このことから、このVGG16モデルのファインチューニング法により構築されたモデルは、十分に妥当であると考えられる。"
      ]
    },
    {
      "cell_type": "markdown",
      "metadata": {
        "id": "JQpfKaV4PbEY"
      },
      "source": [
        "##第６章　モデルの評価"
      ]
    },
    {
      "cell_type": "code",
      "metadata": {
        "id": "Z7D3UdojdEUe",
        "outputId": "3230c432-714c-472b-ff11-5ed17fc906a5",
        "colab": {
          "base_uri": "https://localhost:8080/",
          "height": 573
        }
      },
      "source": [
        "%matplotlib inline\n",
        "import matplotlib.pyplot as plt\n",
        "\n",
        "def plot_acc_loss(history):\n",
        "    # 精度の推移をプロット\n",
        "    plt.plot(history.history['accuracy'],\"-\",label=\"accuracy\")\n",
        "    plt.plot(history.history['val_accuracy'],\"-\",label=\"val_acc\")\n",
        "    plt.title('accuracy')\n",
        "    plt.xlabel('epoch')\n",
        "    plt.ylabel('accuracy')\n",
        "    plt.legend(loc=\"lower right\")\n",
        "    plt.show()\n",
        "\n",
        "    # 損失の推移をプロット\n",
        "    plt.plot(history.history['loss'],\"-\",label=\"loss\",)\n",
        "    plt.plot(history.history['val_loss'],\"-\",label=\"val_loss\")\n",
        "    plt.title('loss')\n",
        "    plt.xlabel('epoch')\n",
        "    plt.ylabel('loss')\n",
        "    plt.legend(loc='upper right')\n",
        "    plt.show()\n",
        "    \n",
        "# 損失と精度をグラフに出力\n",
        "plot_acc_loss(history)"
      ],
      "execution_count": null,
      "outputs": [
        {
          "output_type": "display_data",
          "data": {
            "image/png": "[encoded data removed]",
            "text/plain": [
              "<Figure size 432x288 with 1 Axes>"
            ]
          },
          "metadata": {
            "tags": [],
            "needs_background": "light"
          }
        },
        {
          "output_type": "display_data",
          "data": {
            "image/png": "[encoded data removed]",
            "text/plain": [
              "<Figure size 432x288 with 1 Axes>"
            ]
          },
          "metadata": {
            "tags": [],
            "needs_background": "light"
          }
        }
      ]
    }
  ]
}
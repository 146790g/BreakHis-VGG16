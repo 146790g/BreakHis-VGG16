{
  "nbformat": 4,
  "nbformat_minor": 0,
  "metadata": {
    "kernelspec": {
      "display_name": "Python 3",
      "language": "python",
      "name": "python3"
    },
    "language_info": {
      "codemirror_mode": {
        "name": "ipython",
        "version": 3
      },
      "file_extension": ".py",
      "mimetype": "text/x-python",
      "name": "python",
      "nbconvert_exporter": "python",
      "pygments_lexer": "ipython3",
      "version": "3.6.10"
    },
    "colab": {
      "name": "BreakHis_VGG16_8_patients_clustering via PCA.ipynb",
      "provenance": [],
      "collapsed_sections": [],
      "include_colab_link": true
    },
    "accelerator": "GPU"
  },
  "cells": [
    {
      "cell_type": "markdown",
      "metadata": {
        "id": "view-in-github",
        "colab_type": "text"
      },
      "source": [
        "<a href=\"https://colab.research.google.com/github/146790g/BreakHis-VGG16/blob/master/BreakHis_VGG16_8_patients_clustering_via_PCA.ipynb\" target=\"_parent\"><img src=\"https://colab.research.google.com/assets/colab-badge.svg\" alt=\"Open In Colab\"/></a>"
      ]
    },
    {
      "cell_type": "markdown",
      "metadata": {
        "id": "Aos1i1OBdV3W"
      },
      "source": [
        "# 深層学習 VGG16モデルを用いた乳がん染色画像（BreakHis）の解析\n",
        "#（その８: 特徴量に基づく主成分分析による乳がん患者のセグメンテーション ）\n",
        "# Deep Learning for Magnification Independent Breast Cancer Histopathology\n",
        "\n",
        "<br>\n",
        "\n",
        "# Breast Cancer Patietns Segementation using VGG16 model in frame of k-means methods\n",
        "\n",
        "<br>\n",
        "\n",
        "\n",
        "<h2>対象データは、こちらをクリック ☞　</>\n",
        "<a href='https://www.kaggle.com/ambarish/breakhis'>Kaggle BreakHis Data</a>\n",
        "\n",
        "４つのMagnification levelのデータをすべて合算して、解析する\n",
        "\n",
        "<br>\n",
        "\n",
        "## 4 Magnification Levels: ×40, ×100, ×200, ×400\n",
        "\n",
        "\n",
        "During analysis and annotation, pathologists starts by identifying ROIs in\n",
        "the lowest magnification level slide (×40), then dives deeper in the latter using higher magnification levels (×100, ×200) until having a profound insight\n",
        "(×400). \n",
        "\n",
        "<br>\n",
        "\n",
        "## データ数 の概要\n",
        "\n",
        "・Training Data: 5026 images <br>\n",
        "  -- Benign Data: 1472 images <br>\n",
        "  -- Mallignant Data: 3554 images \n",
        "\n",
        "・Validation Data: 2904 images <br>\n",
        "  -- Benign Data: 1008 images <br>\n",
        "  -- Mallignant Data:1896 images <br>\n",
        "\n",
        "## Data Set Details by Magnification levels.\n",
        "\n",
        " ×40 : <br>\n",
        "×100 : <br>\n",
        "×200 : <br>\n",
        "×400 : <br>"
      ]
    },
    {
      "cell_type": "code",
      "metadata": {
        "id": "MjZpD7wcfTPA"
      },
      "source": [
        "%tensorflow_version 2.x"
      ],
      "execution_count": null,
      "outputs": []
    },
    {
      "cell_type": "code",
      "metadata": {
        "id": "dIVAoJRwTq1x",
        "outputId": "072024ea-a349-4692-9e3f-1d176babe4ce",
        "colab": {
          "base_uri": "https://localhost:8080/",
          "height": 34
        }
      },
      "source": [
        "%pwd\n",
        "from google.colab import drive\n",
        "drive.mount('/content/gdrive')"
      ],
      "execution_count": null,
      "outputs": [
        {
          "output_type": "stream",
          "text": [
            "Mounted at /content/gdrive\n"
          ],
          "name": "stdout"
        }
      ]
    },
    {
      "cell_type": "code",
      "metadata": {
        "id": "mjdqpKr_VU7-",
        "outputId": "6124a9c0-ef83-463e-c18b-782e94962b66",
        "colab": {
          "base_uri": "https://localhost:8080/",
          "height": 70
        }
      },
      "source": [
        "!ls -lh '/content/gdrive/My Drive/Colab Notebooks/BreakHis/data'"
      ],
      "execution_count": null,
      "outputs": [
        {
          "output_type": "stream",
          "text": [
            "total 8.0K\n",
            "drwx------ 2 root root 4.0K Jul 21 03:42 train\n",
            "drwx------ 2 root root 4.0K Jul 27 01:49 validation\n"
          ],
          "name": "stdout"
        }
      ]
    },
    {
      "cell_type": "code",
      "metadata": {
        "id": "PM4Bw3tFdESi"
      },
      "source": [
        "import matplotlib.pyplot as plt\n",
        "from sklearn.datasets import load_iris, load_wine\n",
        "from sklearn.cluster import MeanShift, KMeans\n",
        "from sklearn.decomposition import PCA\n",
        "from sklearn.preprocessing import StandardScaler\n",
        "from sklearn.pipeline import Pipeline\n",
        "from sklearn import mixture\n",
        "from sklearn.cluster import MeanShift, estimate_bandwidth\n",
        "import pickle\n",
        "import pandas as pd\n",
        "import numpy as np\n",
        "from keras.applications.vgg16 import VGG16\n",
        "from keras.preprocessing.image import ImageDataGenerator,load_img\n",
        "import numpy as np\n",
        "import os\n",
        "#import Pillow\n",
        "#from PIL import Image\n",
        "#import opencv\n",
        "from PIL import Image\n",
        "from keras.preprocessing.image import load_img, save_img, img_to_array, array_to_img\n",
        "import numpy as np\n",
        "from pandas import DataFrame\n",
        "import matplotlib.pyplot as plt\n",
        "\n",
        "import tensorflow as tf\n",
        "from tensorflow.keras import layers, models, initializers\n",
        "\n",
        "from keras.models import Sequential, Model\n",
        "from keras.layers import Input, Activation, Dropout, Flatten, Dense\n",
        "from keras.preprocessing.image import ImageDataGenerator\n",
        "from keras import optimizers\n",
        "import numpy as np\n",
        "import matplotlib.pyplot as plt\n",
        "import matplotlib.image as mpimg\n",
        "from keras.applications.vgg19 import VGG19\n",
        "from keras.models import Sequential, Model\n",
        "from keras.layers import Input, Activation, Dropout, Flatten, Dense\n",
        "from keras.preprocessing import image\n",
        "import numpy as np\n",
        "from keras.models import load_model\n",
        "\n",
        "    \n"
      ],
      "execution_count": null,
      "outputs": []
    },
    {
      "cell_type": "markdown",
      "metadata": {
        "id": "QlxAzC96Ztzt"
      },
      "source": [
        "# 第１０章 特徴データに基づく乳がん患者のセグメンテーション\n"
      ]
    },
    {
      "cell_type": "markdown",
      "metadata": {
        "id": "UUF0kdiS8RhZ"
      },
      "source": [
        "### 乳癌患者のみの特徴量データを読み込む\n",
        "### 乳がん患者の画像データは、全部で、３５５４＋１８９６＝５４５０枚ある。"
      ]
    },
    {
      "cell_type": "markdown",
      "metadata": {
        "id": "lHCN4lUTWY5C"
      },
      "source": [
        "## Step1: テストデータのうち、乳癌組織の画像データを4階のテンソルの配列データに変換する"
      ]
    },
    {
      "cell_type": "code",
      "metadata": {
        "id": "UMFeHWA64J1v",
        "outputId": "f72654cb-0fef-4d95-c43a-69318d7f7720",
        "colab": {
          "base_uri": "https://localhost:8080/",
          "height": 52
        }
      },
      "source": [
        "train_data_dir = '/content/gdrive/My Drive/Colab Notebooks/BreakHis/data/train' # 訓練データのフォルダー\n",
        "validation_data_dir = '/content/gdrive/My Drive/Colab Notebooks/BreakHis/data/validation' # テストデータのフォルダー\n",
        "result_dir = '/content/gdrive/My Drive/Colab Notebooks/BreakHis/results'        # VGG19の出力結果を保存するフォルダー\n",
        "test_dir = '/content/gdrive/My Drive/Colab Notebooks/BreakHis/test'\n",
        "    \n",
        "\n",
        "files=os.listdir(os.path.join(test_dir,'malignant'))\n",
        "\n",
        "test_img_array_list = []\n",
        "\n",
        "for img in files:\n",
        "  \n",
        "    file=os.path.join(test_dir,'malignant', img)\n",
        "    temp_img = load_img(file,target_size=(400,400))\n",
        "\n",
        "    #PIL形式からNumpy配列に変換と正規化(400, 400, 3)\n",
        "    temp_img_array = img_to_array(temp_img) /255\n",
        "\n",
        "    #変換したNumpy配列を末尾に追加\n",
        "    test_img_array_list.append(temp_img_array)\n",
        "\n",
        "    \n",
        "import numpy as np\n",
        "\n",
        "\n",
        "test_malignant = np.array(test_img_array_list)\n",
        "\n",
        "print(type(test_malignant))\n",
        "print(test_malignant.shape)\n",
        "\n",
        "\n"
      ],
      "execution_count": null,
      "outputs": [
        {
          "output_type": "stream",
          "text": [
            "<class 'numpy.ndarray'>\n",
            "(94, 400, 400, 3)\n"
          ],
          "name": "stdout"
        }
      ]
    },
    {
      "cell_type": "markdown",
      "metadata": {
        "id": "GqMyUM4-e0zH"
      },
      "source": [
        "##Step2 : 構築したモデルに基づいて、乳癌患者の画像データの特徴量を抽出する（94例）"
      ]
    },
    {
      "cell_type": "code",
      "metadata": {
        "id": "_5Xbj1IqeRSo",
        "outputId": "b50e6242-64f8-4890-c6e0-f72cdc9efeff",
        "colab": {
          "base_uri": "https://localhost:8080/",
          "height": 282
        }
      },
      "source": [
        "import matplotlib.pyplot as plt\n",
        "import matplotlib.image as mpimg\n",
        "from keras.applications.vgg16 import VGG16\n",
        "from keras.models import Sequential, Model\n",
        "from keras.layers import Input, Activation, Dropout, Flatten, Dense\n",
        "from keras.preprocessing import image\n",
        "import numpy as np\n",
        "from keras.models import load_model\n",
        "\n",
        "model=load_model(os.path.join(result_dir,'breakhis_vgg16model_parameter.h5'))\n",
        "\n",
        "layer_outputs = model.get_layer('dense').output\n",
        "\n",
        "model2 = models.Model(inputs=model.input, outputs=layer_outputs)\n",
        "\n",
        "\n",
        "\n",
        "#乳癌組織の特徴量データ\n",
        "feature_malignant=model2.predict(test_malignant)\n",
        "\n",
        "\n",
        "print(feature_malignant.shape)\n",
        "print(type(feature_malignant))\n",
        "\n",
        "dat=pd.DataFrame(feature_malignant)\n",
        "\n",
        "dat.head()"
      ],
      "execution_count": null,
      "outputs": [
        {
          "output_type": "stream",
          "text": [
            "(94, 256)\n",
            "<class 'numpy.ndarray'>\n"
          ],
          "name": "stdout"
        },
        {
          "output_type": "execute_result",
          "data": {
            "text/html": [
              "<div>\n",
              "<style scoped>\n",
              "    .dataframe tbody tr th:only-of-type {\n",
              "        vertical-align: middle;\n",
              "    }\n",
              "\n",
              "    .dataframe tbody tr th {\n",
              "        vertical-align: top;\n",
              "    }\n",
              "\n",
              "    .dataframe thead th {\n",
              "        text-align: right;\n",
              "    }\n",
              "</style>\n",
              "<table border=\"1\" class=\"dataframe\">\n",
              "  <thead>\n",
              "    <tr style=\"text-align: right;\">\n",
              "      <th></th>\n",
              "      <th>0</th>\n",
              "      <th>1</th>\n",
              "      <th>2</th>\n",
              "      <th>3</th>\n",
              "      <th>4</th>\n",
              "      <th>5</th>\n",
              "      <th>6</th>\n",
              "      <th>7</th>\n",
              "      <th>8</th>\n",
              "      <th>9</th>\n",
              "      <th>10</th>\n",
              "      <th>11</th>\n",
              "      <th>12</th>\n",
              "      <th>13</th>\n",
              "      <th>14</th>\n",
              "      <th>15</th>\n",
              "      <th>16</th>\n",
              "      <th>17</th>\n",
              "      <th>18</th>\n",
              "      <th>19</th>\n",
              "      <th>20</th>\n",
              "      <th>21</th>\n",
              "      <th>22</th>\n",
              "      <th>23</th>\n",
              "      <th>24</th>\n",
              "      <th>25</th>\n",
              "      <th>26</th>\n",
              "      <th>27</th>\n",
              "      <th>28</th>\n",
              "      <th>29</th>\n",
              "      <th>30</th>\n",
              "      <th>31</th>\n",
              "      <th>32</th>\n",
              "      <th>33</th>\n",
              "      <th>34</th>\n",
              "      <th>35</th>\n",
              "      <th>36</th>\n",
              "      <th>37</th>\n",
              "      <th>38</th>\n",
              "      <th>39</th>\n",
              "      <th>...</th>\n",
              "      <th>216</th>\n",
              "      <th>217</th>\n",
              "      <th>218</th>\n",
              "      <th>219</th>\n",
              "      <th>220</th>\n",
              "      <th>221</th>\n",
              "      <th>222</th>\n",
              "      <th>223</th>\n",
              "      <th>224</th>\n",
              "      <th>225</th>\n",
              "      <th>226</th>\n",
              "      <th>227</th>\n",
              "      <th>228</th>\n",
              "      <th>229</th>\n",
              "      <th>230</th>\n",
              "      <th>231</th>\n",
              "      <th>232</th>\n",
              "      <th>233</th>\n",
              "      <th>234</th>\n",
              "      <th>235</th>\n",
              "      <th>236</th>\n",
              "      <th>237</th>\n",
              "      <th>238</th>\n",
              "      <th>239</th>\n",
              "      <th>240</th>\n",
              "      <th>241</th>\n",
              "      <th>242</th>\n",
              "      <th>243</th>\n",
              "      <th>244</th>\n",
              "      <th>245</th>\n",
              "      <th>246</th>\n",
              "      <th>247</th>\n",
              "      <th>248</th>\n",
              "      <th>249</th>\n",
              "      <th>250</th>\n",
              "      <th>251</th>\n",
              "      <th>252</th>\n",
              "      <th>253</th>\n",
              "      <th>254</th>\n",
              "      <th>255</th>\n",
              "    </tr>\n",
              "  </thead>\n",
              "  <tbody>\n",
              "    <tr>\n",
              "      <th>0</th>\n",
              "      <td>0.925978</td>\n",
              "      <td>0.000000</td>\n",
              "      <td>0.0</td>\n",
              "      <td>0.052348</td>\n",
              "      <td>0.00000</td>\n",
              "      <td>0.012440</td>\n",
              "      <td>0.723832</td>\n",
              "      <td>0.344564</td>\n",
              "      <td>0.000000</td>\n",
              "      <td>0.000000</td>\n",
              "      <td>0.0</td>\n",
              "      <td>0.0</td>\n",
              "      <td>0.090099</td>\n",
              "      <td>0.0</td>\n",
              "      <td>0.0</td>\n",
              "      <td>0.0</td>\n",
              "      <td>0.0</td>\n",
              "      <td>0.000000</td>\n",
              "      <td>0.0</td>\n",
              "      <td>0.000000</td>\n",
              "      <td>0.958451</td>\n",
              "      <td>0.000000</td>\n",
              "      <td>0.0</td>\n",
              "      <td>0.000000</td>\n",
              "      <td>0.000000</td>\n",
              "      <td>0.569055</td>\n",
              "      <td>0.0</td>\n",
              "      <td>0.0</td>\n",
              "      <td>0.000000</td>\n",
              "      <td>0.000000</td>\n",
              "      <td>0.949395</td>\n",
              "      <td>0.0</td>\n",
              "      <td>0.000000</td>\n",
              "      <td>0.709232</td>\n",
              "      <td>0.0</td>\n",
              "      <td>0.0</td>\n",
              "      <td>0.000000</td>\n",
              "      <td>0.694359</td>\n",
              "      <td>0.0</td>\n",
              "      <td>0.000000</td>\n",
              "      <td>...</td>\n",
              "      <td>0.0</td>\n",
              "      <td>0.0</td>\n",
              "      <td>0.0</td>\n",
              "      <td>0.000000</td>\n",
              "      <td>0.0</td>\n",
              "      <td>0.0</td>\n",
              "      <td>1.099944</td>\n",
              "      <td>0.0</td>\n",
              "      <td>0.0</td>\n",
              "      <td>0.0</td>\n",
              "      <td>0.000000</td>\n",
              "      <td>1.808554</td>\n",
              "      <td>0.0</td>\n",
              "      <td>0.0</td>\n",
              "      <td>0.000000</td>\n",
              "      <td>1.091249</td>\n",
              "      <td>0.053755</td>\n",
              "      <td>0.000000</td>\n",
              "      <td>0.0</td>\n",
              "      <td>0.000000</td>\n",
              "      <td>0.246003</td>\n",
              "      <td>0.000000</td>\n",
              "      <td>0.0</td>\n",
              "      <td>0.937355</td>\n",
              "      <td>0.000000</td>\n",
              "      <td>0.391252</td>\n",
              "      <td>0.0</td>\n",
              "      <td>0.0</td>\n",
              "      <td>0.0</td>\n",
              "      <td>0.000000</td>\n",
              "      <td>0.0</td>\n",
              "      <td>1.752473</td>\n",
              "      <td>0.000000</td>\n",
              "      <td>0.000000</td>\n",
              "      <td>0.631917</td>\n",
              "      <td>1.037877</td>\n",
              "      <td>0.0</td>\n",
              "      <td>0.0</td>\n",
              "      <td>0.0</td>\n",
              "      <td>0.0</td>\n",
              "    </tr>\n",
              "    <tr>\n",
              "      <th>1</th>\n",
              "      <td>1.196234</td>\n",
              "      <td>0.000000</td>\n",
              "      <td>0.0</td>\n",
              "      <td>0.000000</td>\n",
              "      <td>0.00000</td>\n",
              "      <td>0.082081</td>\n",
              "      <td>1.445180</td>\n",
              "      <td>0.962895</td>\n",
              "      <td>0.000000</td>\n",
              "      <td>0.000000</td>\n",
              "      <td>0.0</td>\n",
              "      <td>0.0</td>\n",
              "      <td>0.706407</td>\n",
              "      <td>0.0</td>\n",
              "      <td>0.0</td>\n",
              "      <td>0.0</td>\n",
              "      <td>0.0</td>\n",
              "      <td>0.000000</td>\n",
              "      <td>0.0</td>\n",
              "      <td>0.000000</td>\n",
              "      <td>1.484302</td>\n",
              "      <td>0.000000</td>\n",
              "      <td>0.0</td>\n",
              "      <td>0.000000</td>\n",
              "      <td>0.000000</td>\n",
              "      <td>1.183024</td>\n",
              "      <td>0.0</td>\n",
              "      <td>0.0</td>\n",
              "      <td>0.000000</td>\n",
              "      <td>0.403432</td>\n",
              "      <td>1.520885</td>\n",
              "      <td>0.0</td>\n",
              "      <td>0.000000</td>\n",
              "      <td>0.726557</td>\n",
              "      <td>0.0</td>\n",
              "      <td>0.0</td>\n",
              "      <td>0.000000</td>\n",
              "      <td>0.784326</td>\n",
              "      <td>0.0</td>\n",
              "      <td>0.000000</td>\n",
              "      <td>...</td>\n",
              "      <td>0.0</td>\n",
              "      <td>0.0</td>\n",
              "      <td>0.0</td>\n",
              "      <td>0.000000</td>\n",
              "      <td>0.0</td>\n",
              "      <td>0.0</td>\n",
              "      <td>1.709905</td>\n",
              "      <td>0.0</td>\n",
              "      <td>0.0</td>\n",
              "      <td>0.0</td>\n",
              "      <td>0.217439</td>\n",
              "      <td>2.237989</td>\n",
              "      <td>0.0</td>\n",
              "      <td>0.0</td>\n",
              "      <td>0.000000</td>\n",
              "      <td>1.577627</td>\n",
              "      <td>0.000000</td>\n",
              "      <td>0.000000</td>\n",
              "      <td>0.0</td>\n",
              "      <td>0.000000</td>\n",
              "      <td>0.663574</td>\n",
              "      <td>0.000000</td>\n",
              "      <td>0.0</td>\n",
              "      <td>1.443799</td>\n",
              "      <td>0.000000</td>\n",
              "      <td>1.194020</td>\n",
              "      <td>0.0</td>\n",
              "      <td>0.0</td>\n",
              "      <td>0.0</td>\n",
              "      <td>0.000000</td>\n",
              "      <td>0.0</td>\n",
              "      <td>1.692829</td>\n",
              "      <td>0.000000</td>\n",
              "      <td>0.000000</td>\n",
              "      <td>1.049251</td>\n",
              "      <td>1.582560</td>\n",
              "      <td>0.0</td>\n",
              "      <td>0.0</td>\n",
              "      <td>0.0</td>\n",
              "      <td>0.0</td>\n",
              "    </tr>\n",
              "    <tr>\n",
              "      <th>2</th>\n",
              "      <td>3.968085</td>\n",
              "      <td>2.820742</td>\n",
              "      <td>0.0</td>\n",
              "      <td>0.000000</td>\n",
              "      <td>0.00000</td>\n",
              "      <td>0.000000</td>\n",
              "      <td>3.297671</td>\n",
              "      <td>3.893893</td>\n",
              "      <td>0.000000</td>\n",
              "      <td>2.271101</td>\n",
              "      <td>0.0</td>\n",
              "      <td>0.0</td>\n",
              "      <td>3.734821</td>\n",
              "      <td>0.0</td>\n",
              "      <td>0.0</td>\n",
              "      <td>0.0</td>\n",
              "      <td>0.0</td>\n",
              "      <td>0.768182</td>\n",
              "      <td>0.0</td>\n",
              "      <td>0.000000</td>\n",
              "      <td>4.198579</td>\n",
              "      <td>0.821071</td>\n",
              "      <td>0.0</td>\n",
              "      <td>3.781477</td>\n",
              "      <td>2.400937</td>\n",
              "      <td>4.342148</td>\n",
              "      <td>0.0</td>\n",
              "      <td>0.0</td>\n",
              "      <td>0.000000</td>\n",
              "      <td>4.807205</td>\n",
              "      <td>3.977953</td>\n",
              "      <td>0.0</td>\n",
              "      <td>2.109443</td>\n",
              "      <td>0.000000</td>\n",
              "      <td>0.0</td>\n",
              "      <td>0.0</td>\n",
              "      <td>2.242552</td>\n",
              "      <td>4.347653</td>\n",
              "      <td>0.0</td>\n",
              "      <td>0.000000</td>\n",
              "      <td>...</td>\n",
              "      <td>0.0</td>\n",
              "      <td>0.0</td>\n",
              "      <td>0.0</td>\n",
              "      <td>0.000000</td>\n",
              "      <td>0.0</td>\n",
              "      <td>0.0</td>\n",
              "      <td>4.290143</td>\n",
              "      <td>0.0</td>\n",
              "      <td>0.0</td>\n",
              "      <td>0.0</td>\n",
              "      <td>0.000000</td>\n",
              "      <td>4.041382</td>\n",
              "      <td>0.0</td>\n",
              "      <td>0.0</td>\n",
              "      <td>2.149379</td>\n",
              "      <td>4.683289</td>\n",
              "      <td>0.000000</td>\n",
              "      <td>1.606997</td>\n",
              "      <td>0.0</td>\n",
              "      <td>0.000000</td>\n",
              "      <td>3.263248</td>\n",
              "      <td>3.391760</td>\n",
              "      <td>0.0</td>\n",
              "      <td>3.795064</td>\n",
              "      <td>0.000000</td>\n",
              "      <td>3.937660</td>\n",
              "      <td>0.0</td>\n",
              "      <td>0.0</td>\n",
              "      <td>0.0</td>\n",
              "      <td>0.165275</td>\n",
              "      <td>0.0</td>\n",
              "      <td>3.353735</td>\n",
              "      <td>0.000000</td>\n",
              "      <td>0.000000</td>\n",
              "      <td>3.592703</td>\n",
              "      <td>4.132342</td>\n",
              "      <td>0.0</td>\n",
              "      <td>0.0</td>\n",
              "      <td>0.0</td>\n",
              "      <td>0.0</td>\n",
              "    </tr>\n",
              "    <tr>\n",
              "      <th>3</th>\n",
              "      <td>1.009994</td>\n",
              "      <td>0.000000</td>\n",
              "      <td>0.0</td>\n",
              "      <td>0.045644</td>\n",
              "      <td>0.00000</td>\n",
              "      <td>0.328428</td>\n",
              "      <td>1.111528</td>\n",
              "      <td>0.574569</td>\n",
              "      <td>0.000000</td>\n",
              "      <td>0.000000</td>\n",
              "      <td>0.0</td>\n",
              "      <td>0.0</td>\n",
              "      <td>0.535727</td>\n",
              "      <td>0.0</td>\n",
              "      <td>0.0</td>\n",
              "      <td>0.0</td>\n",
              "      <td>0.0</td>\n",
              "      <td>0.000000</td>\n",
              "      <td>0.0</td>\n",
              "      <td>0.117734</td>\n",
              "      <td>1.291100</td>\n",
              "      <td>0.000000</td>\n",
              "      <td>0.0</td>\n",
              "      <td>0.000000</td>\n",
              "      <td>0.000000</td>\n",
              "      <td>0.731065</td>\n",
              "      <td>0.0</td>\n",
              "      <td>0.0</td>\n",
              "      <td>0.157339</td>\n",
              "      <td>0.359369</td>\n",
              "      <td>1.092721</td>\n",
              "      <td>0.0</td>\n",
              "      <td>0.000000</td>\n",
              "      <td>0.570623</td>\n",
              "      <td>0.0</td>\n",
              "      <td>0.0</td>\n",
              "      <td>0.000000</td>\n",
              "      <td>0.588758</td>\n",
              "      <td>0.0</td>\n",
              "      <td>0.000000</td>\n",
              "      <td>...</td>\n",
              "      <td>0.0</td>\n",
              "      <td>0.0</td>\n",
              "      <td>0.0</td>\n",
              "      <td>0.000000</td>\n",
              "      <td>0.0</td>\n",
              "      <td>0.0</td>\n",
              "      <td>1.431107</td>\n",
              "      <td>0.0</td>\n",
              "      <td>0.0</td>\n",
              "      <td>0.0</td>\n",
              "      <td>0.000000</td>\n",
              "      <td>2.102942</td>\n",
              "      <td>0.0</td>\n",
              "      <td>0.0</td>\n",
              "      <td>0.000000</td>\n",
              "      <td>1.268014</td>\n",
              "      <td>0.267612</td>\n",
              "      <td>0.000000</td>\n",
              "      <td>0.0</td>\n",
              "      <td>0.000000</td>\n",
              "      <td>0.391476</td>\n",
              "      <td>0.000000</td>\n",
              "      <td>0.0</td>\n",
              "      <td>1.062971</td>\n",
              "      <td>0.140407</td>\n",
              "      <td>1.029258</td>\n",
              "      <td>0.0</td>\n",
              "      <td>0.0</td>\n",
              "      <td>0.0</td>\n",
              "      <td>0.000000</td>\n",
              "      <td>0.0</td>\n",
              "      <td>1.783471</td>\n",
              "      <td>0.019453</td>\n",
              "      <td>0.000000</td>\n",
              "      <td>0.755849</td>\n",
              "      <td>0.868596</td>\n",
              "      <td>0.0</td>\n",
              "      <td>0.0</td>\n",
              "      <td>0.0</td>\n",
              "      <td>0.0</td>\n",
              "    </tr>\n",
              "    <tr>\n",
              "      <th>4</th>\n",
              "      <td>2.000358</td>\n",
              "      <td>0.675378</td>\n",
              "      <td>0.0</td>\n",
              "      <td>0.000000</td>\n",
              "      <td>0.06668</td>\n",
              "      <td>0.126261</td>\n",
              "      <td>1.908052</td>\n",
              "      <td>1.745808</td>\n",
              "      <td>0.135832</td>\n",
              "      <td>0.752969</td>\n",
              "      <td>0.0</td>\n",
              "      <td>0.0</td>\n",
              "      <td>1.416198</td>\n",
              "      <td>0.0</td>\n",
              "      <td>0.0</td>\n",
              "      <td>0.0</td>\n",
              "      <td>0.0</td>\n",
              "      <td>0.000000</td>\n",
              "      <td>0.0</td>\n",
              "      <td>0.000000</td>\n",
              "      <td>2.339535</td>\n",
              "      <td>0.000000</td>\n",
              "      <td>0.0</td>\n",
              "      <td>1.380153</td>\n",
              "      <td>0.000000</td>\n",
              "      <td>1.890557</td>\n",
              "      <td>0.0</td>\n",
              "      <td>0.0</td>\n",
              "      <td>0.162332</td>\n",
              "      <td>2.132661</td>\n",
              "      <td>1.863910</td>\n",
              "      <td>0.0</td>\n",
              "      <td>0.000000</td>\n",
              "      <td>0.105113</td>\n",
              "      <td>0.0</td>\n",
              "      <td>0.0</td>\n",
              "      <td>0.038101</td>\n",
              "      <td>1.674470</td>\n",
              "      <td>0.0</td>\n",
              "      <td>0.041385</td>\n",
              "      <td>...</td>\n",
              "      <td>0.0</td>\n",
              "      <td>0.0</td>\n",
              "      <td>0.0</td>\n",
              "      <td>0.029553</td>\n",
              "      <td>0.0</td>\n",
              "      <td>0.0</td>\n",
              "      <td>2.632069</td>\n",
              "      <td>0.0</td>\n",
              "      <td>0.0</td>\n",
              "      <td>0.0</td>\n",
              "      <td>0.000000</td>\n",
              "      <td>2.738144</td>\n",
              "      <td>0.0</td>\n",
              "      <td>0.0</td>\n",
              "      <td>0.493369</td>\n",
              "      <td>2.309583</td>\n",
              "      <td>0.000000</td>\n",
              "      <td>0.000000</td>\n",
              "      <td>0.0</td>\n",
              "      <td>0.015207</td>\n",
              "      <td>1.506454</td>\n",
              "      <td>1.229448</td>\n",
              "      <td>0.0</td>\n",
              "      <td>2.086471</td>\n",
              "      <td>0.000000</td>\n",
              "      <td>1.728053</td>\n",
              "      <td>0.0</td>\n",
              "      <td>0.0</td>\n",
              "      <td>0.0</td>\n",
              "      <td>0.000000</td>\n",
              "      <td>0.0</td>\n",
              "      <td>2.219107</td>\n",
              "      <td>0.000000</td>\n",
              "      <td>0.053765</td>\n",
              "      <td>1.772939</td>\n",
              "      <td>2.574878</td>\n",
              "      <td>0.0</td>\n",
              "      <td>0.0</td>\n",
              "      <td>0.0</td>\n",
              "      <td>0.0</td>\n",
              "    </tr>\n",
              "  </tbody>\n",
              "</table>\n",
              "<p>5 rows × 256 columns</p>\n",
              "</div>"
            ],
            "text/plain": [
              "        0         1    2         3        4    ...       251  252  253  254  255\n",
              "0  0.925978  0.000000  0.0  0.052348  0.00000  ...  1.037877  0.0  0.0  0.0  0.0\n",
              "1  1.196234  0.000000  0.0  0.000000  0.00000  ...  1.582560  0.0  0.0  0.0  0.0\n",
              "2  3.968085  2.820742  0.0  0.000000  0.00000  ...  4.132342  0.0  0.0  0.0  0.0\n",
              "3  1.009994  0.000000  0.0  0.045644  0.00000  ...  0.868596  0.0  0.0  0.0  0.0\n",
              "4  2.000358  0.675378  0.0  0.000000  0.06668  ...  2.574878  0.0  0.0  0.0  0.0\n",
              "\n",
              "[5 rows x 256 columns]"
            ]
          },
          "metadata": {
            "tags": []
          },
          "execution_count": 15
        }
      ]
    },
    {
      "cell_type": "markdown",
      "metadata": {
        "id": "bO-gCQugf1qn"
      },
      "source": [
        "## Step3: 特徴量データに対して、主成分分析を行い、それらの主成分に基づいてスケーリング、k-means法による患者分類を行う。分類数は、４とする。\n",
        "## 主成分分析では、第５主成分までを算出する。"
      ]
    },
    {
      "cell_type": "code",
      "metadata": {
        "id": "4SSGZBt6fT3k",
        "outputId": "8a3858b3-5065-4bf1-8c94-4b8f089fa000",
        "colab": {
          "base_uri": "https://localhost:8080/",
          "height": 123
        }
      },
      "source": [
        "pca=PCA(n_components=5)\n",
        "\n",
        "pipe_km = Pipeline([(\"scaler\", StandardScaler()), \n",
        "                    ('pca',PCA(n_components=5)),\n",
        "                    (\"kmeans\", KMeans(n_clusters=4))])\n",
        "\n",
        "pcax = pca.fit_transform(dat)\n",
        "\n",
        "print(pcax[:3])"
      ],
      "execution_count": null,
      "outputs": [
        {
          "output_type": "stream",
          "text": [
            "[[-1.2279498e+01 -3.8791364e-01  1.0492013e+00 -2.1403580e+00\n",
            "  -1.2134510e+00]\n",
            " [-9.1038532e+00 -1.5958192e+00  9.0568477e-01 -8.7272662e-01\n",
            "  -3.2439324e-01]\n",
            " [ 1.7326271e+01  1.5609685e+00 -2.2066813e+00 -4.2449805e-01\n",
            "   1.1313303e-02]]\n"
          ],
          "name": "stdout"
        }
      ]
    },
    {
      "cell_type": "markdown",
      "metadata": {
        "id": "8cGvuomMjSHG"
      },
      "source": [
        "## 第１主成分　VS 　第2主成分の　プロット"
      ]
    },
    {
      "cell_type": "code",
      "metadata": {
        "id": "iSwGucEnhmZ9",
        "outputId": "be235bb0-4bcd-4f09-91b2-8fd120b1ca9b",
        "colab": {
          "base_uri": "https://localhost:8080/",
          "height": 513
        }
      },
      "source": [
        "p_km_y = pipe_km.fit_predict(dat)\n",
        "\n",
        "y=p_km_y\n",
        "name=\"scaling+k-means\"\n",
        "n_cluster=4\n",
        "i=1\n",
        "\n",
        "fig, axes = plt.subplots(nrows=1, ncols=1, figsize=(8,8))\n",
        "\n",
        "colors=['red','green','yellow','blue','black']\n",
        "\n",
        "for target in range(n_cluster):\n",
        "    axes.scatter(pcax[y==target,0],pcax[y==target,1],c=colors[target])\n",
        "    axes.set_title(\"{0} n_cluster:{1}\".format(name, n_cluster))\n",
        "    axes.set_xlabel('PCA 1')\n",
        "    axes.set_ylabel('PCA 2')\n",
        "\n",
        "\n"
      ],
      "execution_count": null,
      "outputs": [
        {
          "output_type": "display_data",
          "data": {
            "image/png": "[encoded data removed]",
            "text/plain": [
              "<Figure size 576x576 with 1 Axes>"
            ]
          },
          "metadata": {
            "tags": [],
            "needs_background": "light"
          }
        }
      ]
    },
    {
      "cell_type": "markdown",
      "metadata": {
        "id": "0YUhYmq-jaNU"
      },
      "source": [
        "## 第１主成分　VS 　第３主成分の　プロット"
      ]
    },
    {
      "cell_type": "code",
      "metadata": {
        "id": "-NYN8xcsistH",
        "outputId": "deed5e32-ee5d-4090-9069-7b992ec614a0",
        "colab": {
          "base_uri": "https://localhost:8080/",
          "height": 513
        }
      },
      "source": [
        "p_km_y = pipe_km.fit_predict(dat)\n",
        "\n",
        "y=p_km_y\n",
        "name=\"scaling+k-means\"\n",
        "n_cluster=4\n",
        "i=1\n",
        "\n",
        "fig, axes = plt.subplots(nrows=1, ncols=1, figsize=(8,8))\n",
        "\n",
        "colors=['red','green','yellow','blue','black']\n",
        "\n",
        "for target in range(n_cluster):\n",
        "    axes.scatter(pcax[y==target,0],pcax[y==target,2],c=colors[target])\n",
        "    axes.set_title(\"{0} n_cluster:{1}\".format(name, n_cluster))\n",
        "    axes.set_xlabel('PCA 1')\n",
        "    axes.set_ylabel('PCA 3')"
      ],
      "execution_count": null,
      "outputs": [
        {
          "output_type": "display_data",
          "data": {
            "image/png": "[encoded data removed]",
            "text/plain": [
              "<Figure size 576x576 with 1 Axes>"
            ]
          },
          "metadata": {
            "tags": [],
            "needs_background": "light"
          }
        }
      ]
    },
    {
      "cell_type": "markdown",
      "metadata": {
        "id": "1ae6EqMijeML"
      },
      "source": [
        "## 第１主成分　VS 　第４主成分の　プロット"
      ]
    },
    {
      "cell_type": "code",
      "metadata": {
        "id": "PepmUz3Di42Z",
        "outputId": "c1b9077d-7d27-4004-ce6d-60c9aad0c9c6",
        "colab": {
          "base_uri": "https://localhost:8080/",
          "height": 513
        }
      },
      "source": [
        "p_km_y = pipe_km.fit_predict(dat)\n",
        "\n",
        "y=p_km_y\n",
        "name=\"scaling+k-means\"\n",
        "n_cluster=4\n",
        "i=1\n",
        "\n",
        "fig, axes = plt.subplots(nrows=1, ncols=1, figsize=(8,8))\n",
        "\n",
        "colors=['red','green','yellow','blue','black']\n",
        "\n",
        "for target in range(n_cluster):\n",
        "    axes.scatter(pcax[y==target,0],pcax[y==target,3],c=colors[target])\n",
        "    axes.set_title(\"{0} n_cluster:{1}\".format(name, n_cluster))\n",
        "    axes.set_xlabel('PCA 1')\n",
        "    axes.set_ylabel('PCA 4')"
      ],
      "execution_count": null,
      "outputs": [
        {
          "output_type": "display_data",
          "data": {
            "image/png": "[encoded data removed]",
            "text/plain": [
              "<Figure size 576x576 with 1 Axes>"
            ]
          },
          "metadata": {
            "tags": [],
            "needs_background": "light"
          }
        }
      ]
    },
    {
      "cell_type": "markdown",
      "metadata": {
        "id": "F9iE43N0jggN"
      },
      "source": [
        "## 第１主成分　VS 　第５主成分の　プロット"
      ]
    },
    {
      "cell_type": "code",
      "metadata": {
        "id": "9jw-kMGVi-6i",
        "outputId": "fc03a31b-4517-4d1e-bfe8-6f4008f8834e",
        "colab": {
          "base_uri": "https://localhost:8080/",
          "height": 513
        }
      },
      "source": [
        "p_km_y = pipe_km.fit_predict(dat)\n",
        "\n",
        "y=p_km_y\n",
        "name=\"scaling+k-means\"\n",
        "n_cluster=4\n",
        "i=1\n",
        "\n",
        "fig, axes = plt.subplots(nrows=1, ncols=1, figsize=(8,8))\n",
        "\n",
        "colors=['red','green','yellow','blue','black']\n",
        "\n",
        "for target in range(n_cluster):\n",
        "    axes.scatter(pcax[y==target,0],pcax[y==target,4],c=colors[target])\n",
        "    axes.set_title(\"{0} n_cluster:{1}\".format(name, n_cluster))\n",
        "    axes.set_xlabel('PCA 1')\n",
        "    axes.set_ylabel('PCA 5')"
      ],
      "execution_count": null,
      "outputs": [
        {
          "output_type": "display_data",
          "data": {
            "image/png": "[encoded data removed]",
            "text/plain": [
              "<Figure size 576x576 with 1 Axes>"
            ]
          },
          "metadata": {
            "tags": [],
            "needs_background": "light"
          }
        }
      ]
    },
    {
      "cell_type": "markdown",
      "metadata": {
        "id": "JEMj9vV4ZJli"
      },
      "source": [
        "# 【考察】\n",
        "\n",
        "##特徴量データに基づいて、クラスタリングを行った。スケーリングの前処理を行い、次に、k-means法によって分類する方法が、もっとも、真値に近いことが示された。また、このクラスタリングにより、VGG16モデルによる特徴量の抽出が適切にできていることが示された。"
      ]
    }
  ]
}